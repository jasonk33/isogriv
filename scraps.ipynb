{
 "cells": [
  {
   "cell_type": "code",
   "execution_count": 6,
   "metadata": {},
   "outputs": [],
   "source": [
    "import pandas as pd\n",
    "import numpy as np"
   ]
  },
  {
   "cell_type": "code",
   "execution_count": null,
   "metadata": {},
   "outputs": [],
   "source": [
    "for year in reversed(range(1976,2020)):\n",
    "    text_file = open(\"launch_scripts/description_features/launch_{}.sh\".format(year), \"w\")\n",
    "    text_file.write(\"#!/bin/bash\\n\")\n",
    "    text_file.write(\"#SBATCH -n 2\\n\")\n",
    "    text_file.write(\"#SBATCH -t 48:00:00\\n\")\n",
    "    text_file.write(\"#SBATCH --mem=32g\\n\")\n",
    "    text_file.write(\"module load python/3.6.6\\n\")\n",
    "    text_file.write(\"python3 /users/jkatz/scratch/Upwork/isogriv/get_description_features.py {}\".format(year))\n",
    "    text_file.close()"
   ]
  },
  {
   "cell_type": "code",
   "execution_count": null,
   "metadata": {},
   "outputs": [],
   "source": [
    "import os\n",
    "for year in reversed(range(1976,2020)):\n",
    "    os.system(\"sbatch launch_scripts/description_features/launch_{}.sh\".format(year))"
   ]
  },
  {
   "cell_type": "code",
   "execution_count": null,
   "metadata": {},
   "outputs": [],
   "source": [
    "import zipfile, os\n",
    "for file in os.listdir():   # get the list of files\n",
    "    if file[0:6] == \"detail\"\n",
    "        with zipfile.ZipFile(file) as item: # treat the file as a zip\n",
    "            item.extractall()  # extract it in the working directory"
   ]
  },
  {
   "cell_type": "code",
   "execution_count": 31,
   "metadata": {},
   "outputs": [
    {
     "name": "stderr",
     "output_type": "stream",
     "text": [
      "/Users/JasonKatz/anaconda/lib/python3.6/site-packages/IPython/core/interactiveshell.py:2717: DtypeWarning: Columns (8,9,11,12,13,14,15,16,17,19,20,21,22,23,26,27) have mixed types. Specify dtype option on import or set low_memory=False.\n",
      "  interactivity=interactivity, compiler=compiler, result=result)\n"
     ]
    }
   ],
   "source": [
    "df = pd.read_csv(\"/Users/JasonKatz/Downloads/ptab2_decisions.csv\")"
   ]
  },
  {
   "cell_type": "code",
   "execution_count": 33,
   "metadata": {},
   "outputs": [
    {
     "data": {
      "text/plain": [
       "51"
      ]
     },
     "execution_count": 33,
     "metadata": {},
     "output_type": "execute_result"
    }
   ],
   "source": [
    "len(list(np.unique(df['subdecision_type_category'])))"
   ]
  },
  {
   "cell_type": "code",
   "execution_count": null,
   "metadata": {},
   "outputs": [],
   "source": [
    "df.clip"
   ]
  },
  {
   "cell_type": "code",
   "execution_count": 39,
   "metadata": {},
   "outputs": [
    {
     "data": {
      "text/plain": [
       "'8271812'"
      ]
     },
     "execution_count": 39,
     "metadata": {},
     "output_type": "execute_result"
    }
   ],
   "source": [
    "df['respondent_patent_number'][0]"
   ]
  },
  {
   "cell_type": "code",
   "execution_count": 41,
   "metadata": {},
   "outputs": [
    {
     "data": {
      "text/plain": [
       "True"
      ]
     },
     "execution_count": 41,
     "metadata": {},
     "output_type": "execute_result"
    }
   ],
   "source": [
    "'8271812' in list(df['respondent_patent_number'])"
   ]
  },
  {
   "cell_type": "code",
   "execution_count": 57,
   "metadata": {},
   "outputs": [
    {
     "ename": "SyntaxError",
     "evalue": "EOL while scanning string literal (<ipython-input-57-258fb182bca1>, line 4)",
     "output_type": "error",
     "traceback": [
      "\u001b[0;36m  File \u001b[0;32m\"<ipython-input-57-258fb182bca1>\"\u001b[0;36m, line \u001b[0;32m4\u001b[0m\n\u001b[0;31m    text_file.write(\"\u001b[0m\n\u001b[0m                     ^\u001b[0m\n\u001b[0;31mSyntaxError\u001b[0m\u001b[0;31m:\u001b[0m EOL while scanning string literal\n"
     ]
    }
   ],
   "source": [
    "for year in reversed(range(1976,2020)):\n",
    "    text_file = open(\"python_scripts/parse_{}.py\".format(year), \"w\")\n",
    "    text_file.write(\"import csv\\n\")\n",
    "    text_file.write(\"import pandas as pd\\n\")\n",
    "    text_file.write(\"import sys\\n\")\n",
    "    text_file.write(\"import json\\n\")\n",
    "    text_file.write(\"patent_decisions_df = pd.read_csv('/users/jkatz/scratch/Upwork/isogriv/ptab2_decisions.csv')\\n\")\n",
    "    text_file.write(\"csv.field_size_limit(sys.maxsize)\\n\")\n",
    "    text_file.write(\"patent_descriptions = {}\\n\")\n",
    "    text_file.write(\"patents = list(patent_decisions_df['respondent_patent_number'])\\n\")\n",
    "    text_file.write(\"with open('/users/jkatz/scratch/Upwork/isogriv/detail_description_data/detail-desc-text-{}.tsv','r') as tsvin:\\n\".format(year))\n",
    "    text_file.write(\"    tsvin = csv.reader(tsvin, delimiter='\\t')\\n\")\n",
    "    text_file.write(\"    for row in tsvin:\\n\")\n",
    "    text_file.write(\"        if row[0] in patents:\\n\")\n",
    "    text_file.write(\"            patent_descriptions[row[0]] = row[1]\\n\")\n",
    "    text_file.write(\"with open('patent_descriptions/descriptions_{}.json', 'w') as f:\\n\".format(year))\n",
    "    text_file.write(\"    json.dump(patent_descriptions, f)\\n\")\n",
    "    text_file.close()"
   ]
  },
  {
   "cell_type": "code",
   "execution_count": 51,
   "metadata": {},
   "outputs": [],
   "source": [
    "import csv\n",
    "import sys\n",
    "impor\n",
    "\n",
    "patent_decisions_df = pd.read_csv(\"/Users/JasonKatz/Downloads/ptab2_decisions.csv\")\n",
    "csv.field_size_limit(sys.maxsize)\n",
    "patent_descriptions = {}\n",
    "patents = list(patent_decisions_df['respondent_patent_number'])\n",
    "with open('/Users/JasonKatz/Downloads/detail_desc_text_2019.tsv','r') as tsvin:\n",
    "    tsvin = csv.reader(tsvin, delimiter='\\t')\n",
    "\n",
    "    count = 0\n",
    "    for row in tsvin:\n",
    "        if row[0] in patents:\n",
    "            patent_descriptions[row[0]] = row[1]\n",
    "with open('patent_descriptions/descriptions_{}.json', 'w') as f:\n",
    "    json.dump(data, f)"
   ]
  },
  {
   "cell_type": "code",
   "execution_count": null,
   "metadata": {},
   "outputs": [],
   "source": []
  },
  {
   "cell_type": "code",
   "execution_count": 10,
   "metadata": {},
   "outputs": [
    {
     "data": {
      "text/plain": [
       "'100'"
      ]
     },
     "execution_count": 10,
     "metadata": {},
     "output_type": "execute_result"
    }
   ],
   "source": [
    "\"{0:01}\".format(int('099')+1)"
   ]
  },
  {
   "cell_type": "code",
   "execution_count": null,
   "metadata": {},
   "outputs": [],
   "source": []
  },
  {
   "cell_type": "code",
   "execution_count": 34,
   "metadata": {},
   "outputs": [],
   "source": [
    "import os\n",
    "numbers = [\"{0:03}\".format(i) for i in reversed(range(99,200))]"
   ]
  },
  {
   "cell_type": "code",
   "execution_count": 35,
   "metadata": {},
   "outputs": [
    {
     "name": "stdout",
     "output_type": "stream",
     "text": [
      "detail_description_199.tsv --> detail_description_200.tsv\n",
      "detail_description_198.tsv --> detail_description_199.tsv\n",
      "detail_description_197.tsv --> detail_description_198.tsv\n",
      "detail_description_196.tsv --> detail_description_197.tsv\n",
      "detail_description_195.tsv --> detail_description_196.tsv\n",
      "detail_description_194.tsv --> detail_description_195.tsv\n",
      "detail_description_193.tsv --> detail_description_194.tsv\n",
      "detail_description_192.tsv --> detail_description_193.tsv\n",
      "detail_description_191.tsv --> detail_description_192.tsv\n",
      "detail_description_190.tsv --> detail_description_191.tsv\n",
      "detail_description_189.tsv --> detail_description_190.tsv\n",
      "detail_description_188.tsv --> detail_description_189.tsv\n",
      "detail_description_187.tsv --> detail_description_188.tsv\n",
      "detail_description_186.tsv --> detail_description_187.tsv\n",
      "detail_description_185.tsv --> detail_description_186.tsv\n",
      "detail_description_184.tsv --> detail_description_185.tsv\n",
      "detail_description_183.tsv --> detail_description_184.tsv\n",
      "detail_description_182.tsv --> detail_description_183.tsv\n",
      "detail_description_181.tsv --> detail_description_182.tsv\n",
      "detail_description_180.tsv --> detail_description_181.tsv\n",
      "detail_description_179.tsv --> detail_description_180.tsv\n",
      "detail_description_178.tsv --> detail_description_179.tsv\n",
      "detail_description_177.tsv --> detail_description_178.tsv\n",
      "detail_description_176.tsv --> detail_description_177.tsv\n",
      "detail_description_175.tsv --> detail_description_176.tsv\n",
      "detail_description_174.tsv --> detail_description_175.tsv\n",
      "detail_description_173.tsv --> detail_description_174.tsv\n",
      "detail_description_172.tsv --> detail_description_173.tsv\n",
      "detail_description_171.tsv --> detail_description_172.tsv\n",
      "detail_description_170.tsv --> detail_description_171.tsv\n",
      "detail_description_169.tsv --> detail_description_170.tsv\n",
      "detail_description_168.tsv --> detail_description_169.tsv\n",
      "detail_description_167.tsv --> detail_description_168.tsv\n",
      "detail_description_166.tsv --> detail_description_167.tsv\n",
      "detail_description_165.tsv --> detail_description_166.tsv\n",
      "detail_description_164.tsv --> detail_description_165.tsv\n",
      "detail_description_163.tsv --> detail_description_164.tsv\n",
      "detail_description_162.tsv --> detail_description_163.tsv\n",
      "detail_description_161.tsv --> detail_description_162.tsv\n",
      "detail_description_160.tsv --> detail_description_161.tsv\n",
      "detail_description_159.tsv --> detail_description_160.tsv\n",
      "detail_description_158.tsv --> detail_description_159.tsv\n",
      "detail_description_157.tsv --> detail_description_158.tsv\n",
      "detail_description_156.tsv --> detail_description_157.tsv\n",
      "detail_description_155.tsv --> detail_description_156.tsv\n",
      "detail_description_154.tsv --> detail_description_155.tsv\n",
      "detail_description_153.tsv --> detail_description_154.tsv\n",
      "detail_description_152.tsv --> detail_description_153.tsv\n",
      "detail_description_151.tsv --> detail_description_152.tsv\n",
      "detail_description_150.tsv --> detail_description_151.tsv\n",
      "detail_description_149.tsv --> detail_description_150.tsv\n",
      "detail_description_148.tsv --> detail_description_149.tsv\n",
      "detail_description_147.tsv --> detail_description_148.tsv\n",
      "detail_description_146.tsv --> detail_description_147.tsv\n",
      "detail_description_145.tsv --> detail_description_146.tsv\n",
      "detail_description_144.tsv --> detail_description_145.tsv\n",
      "detail_description_143.tsv --> detail_description_144.tsv\n",
      "detail_description_142.tsv --> detail_description_143.tsv\n",
      "detail_description_141.tsv --> detail_description_142.tsv\n",
      "detail_description_140.tsv --> detail_description_141.tsv\n",
      "detail_description_139.tsv --> detail_description_140.tsv\n",
      "detail_description_138.tsv --> detail_description_139.tsv\n",
      "detail_description_137.tsv --> detail_description_138.tsv\n",
      "detail_description_136.tsv --> detail_description_137.tsv\n",
      "detail_description_135.tsv --> detail_description_136.tsv\n",
      "detail_description_134.tsv --> detail_description_135.tsv\n",
      "detail_description_133.tsv --> detail_description_134.tsv\n",
      "detail_description_132.tsv --> detail_description_133.tsv\n",
      "detail_description_131.tsv --> detail_description_132.tsv\n",
      "detail_description_130.tsv --> detail_description_131.tsv\n",
      "detail_description_129.tsv --> detail_description_130.tsv\n",
      "detail_description_128.tsv --> detail_description_129.tsv\n",
      "detail_description_127.tsv --> detail_description_128.tsv\n",
      "detail_description_126.tsv --> detail_description_127.tsv\n",
      "detail_description_125.tsv --> detail_description_126.tsv\n",
      "detail_description_124.tsv --> detail_description_125.tsv\n",
      "detail_description_123.tsv --> detail_description_124.tsv\n",
      "detail_description_122.tsv --> detail_description_123.tsv\n",
      "detail_description_121.tsv --> detail_description_122.tsv\n",
      "detail_description_120.tsv --> detail_description_121.tsv\n",
      "detail_description_119.tsv --> detail_description_120.tsv\n",
      "detail_description_118.tsv --> detail_description_119.tsv\n",
      "detail_description_117.tsv --> detail_description_118.tsv\n",
      "detail_description_116.tsv --> detail_description_117.tsv\n",
      "detail_description_115.tsv --> detail_description_116.tsv\n",
      "detail_description_114.tsv --> detail_description_115.tsv\n",
      "detail_description_113.tsv --> detail_description_114.tsv\n",
      "detail_description_112.tsv --> detail_description_113.tsv\n",
      "detail_description_111.tsv --> detail_description_112.tsv\n",
      "detail_description_110.tsv --> detail_description_111.tsv\n",
      "detail_description_109.tsv --> detail_description_110.tsv\n",
      "detail_description_108.tsv --> detail_description_109.tsv\n",
      "detail_description_107.tsv --> detail_description_108.tsv\n",
      "detail_description_106.tsv --> detail_description_107.tsv\n",
      "detail_description_105.tsv --> detail_description_106.tsv\n",
      "detail_description_104.tsv --> detail_description_105.tsv\n",
      "detail_description_103.tsv --> detail_description_104.tsv\n",
      "detail_description_102.tsv --> detail_description_103.tsv\n",
      "detail_description_101.tsv --> detail_description_102.tsv\n",
      "detail_description_100.tsv --> detail_description_101.tsv\n",
      "detail_description_099.tsv --> detail_description_100.tsv\n"
     ]
    }
   ],
   "source": [
    "for number in numbers:\n",
    "    file_name = \"detail_description_{}.tsv\".format(number)\n",
    "    new_num = \"{0:01}\".format(int(number)+1)\n",
    "    new_file_name = \"detail_description_{}.tsv\".format(new_num)\n",
    "#     print(\"{} --> {}\".format(file_name, new_file_name))\n",
    "    os.system(\"mv {} {}\".format(file_name, new_file_name))"
   ]
  },
  {
   "cell_type": "code",
   "execution_count": null,
   "metadata": {},
   "outputs": [],
   "source": []
  },
  {
   "cell_type": "code",
   "execution_count": null,
   "metadata": {},
   "outputs": [],
   "source": []
  },
  {
   "cell_type": "code",
   "execution_count": null,
   "metadata": {},
   "outputs": [],
   "source": []
  },
  {
   "cell_type": "code",
   "execution_count": null,
   "metadata": {},
   "outputs": [],
   "source": [
    "import pandas as pd\n",
    "import os\n",
    "import json\n",
    "from joblib import dump, load"
   ]
  },
  {
   "cell_type": "code",
   "execution_count": null,
   "metadata": {},
   "outputs": [],
   "source": [
    "all_description_features = []\n",
    "for file_name in os.listdir(\"probability_data/\"):\n",
    "    with open(\"probability_data/{}\".format(file_name)) as f:\n",
    "        description_features = json.load(f)\n",
    "    for key,val in description_features.items():\n",
    "        all_description_features.append([key] + val)\n",
    "        \n",
    "all_description_features_df = pd.DataFrame(all_description_features, columns=['patent_id', 'description_word_count', \n",
    "                                                                              'fk_score', 'fig_counts'])\n",
    "all_description_features_df['patent_id'] = all_description_features_df['patent_id'].astype(str)"
   ]
  },
  {
   "cell_type": "code",
   "execution_count": null,
   "metadata": {},
   "outputs": [],
   "source": [
    "days_between_features = pd.read_csv(\"patent_days_between.csv\", index_col=0).rename(columns={'id':'patent_id'})\n",
    "days_between_features['patent_id'] = days_between_features['patent_id'].astype(str)"
   ]
  },
  {
   "cell_type": "code",
   "execution_count": null,
   "metadata": {},
   "outputs": [],
   "source": [
    "patent_data_preds = all_description_features_df.merge(days_between_features, on=\"patent_id\", how=\"inner\")\n",
    "\n",
    "model = load(\"patent_GBC.joblib\")\n",
    "\n",
    "patent_data_preds['good_claim_probability'] = model.predict_proba(patent_data_preds.iloc[:,1:])[:,1]"
   ]
  },
  {
   "cell_type": "code",
   "execution_count": null,
   "metadata": {},
   "outputs": [],
   "source": [
    "patent_data_preds.to_csv(\"patent_data_preds.csv\")"
   ]
  },
  {
   "cell_type": "code",
   "execution_count": null,
   "metadata": {},
   "outputs": [],
   "source": []
  },
  {
   "cell_type": "code",
   "execution_count": null,
   "metadata": {},
   "outputs": [],
   "source": []
  },
  {
   "cell_type": "code",
   "execution_count": null,
   "metadata": {},
   "outputs": [],
   "source": []
  },
  {
   "cell_type": "code",
   "execution_count": null,
   "metadata": {},
   "outputs": [],
   "source": [
    "import os\n",
    "os.system(\"cp detail_description_data/detail-desc-text-2019.tsv all_detail_descriptions.tsv\")\n",
    "for year in reversed(range(1976,2019)):\n",
    "    os.system(\"tail --lines=+2 detail_description_data/detail-desc-text-{}.tsv >> all_detail_descriptions.tsv\".format(year))"
   ]
  },
  {
   "cell_type": "code",
   "execution_count": null,
   "metadata": {},
   "outputs": [],
   "source": []
  },
  {
   "cell_type": "code",
   "execution_count": null,
   "metadata": {},
   "outputs": [],
   "source": []
  },
  {
   "cell_type": "code",
   "execution_count": null,
   "metadata": {},
   "outputs": [],
   "source": [
    "all_patent_descriptions = {}\n",
    "for year in range(1976,2020):\n",
    "    with open(\"patent_descriptions/descriptions_{}.json\".format(year)) as f:\n",
    "        patent_descriptions = json.load(f)\n",
    "    for key,val in patent_descriptions.items():\n",
    "        all_patent_descriptions[key] = val\n",
    "        \n",
    "all_patent_descriptions_df = pd.DataFrame(list(zip(list(all_patent_descriptions.keys()),list(all_patent_descriptions.values()))), columns=[\"patent_id\", \"detailed_description\"])"
   ]
  }
 ],
 "metadata": {
  "kernelspec": {
   "display_name": "Python 3",
   "language": "python",
   "name": "python3"
  },
  "language_info": {
   "codemirror_mode": {
    "name": "ipython",
    "version": 3
   },
   "file_extension": ".py",
   "mimetype": "text/x-python",
   "name": "python",
   "nbconvert_exporter": "python",
   "pygments_lexer": "ipython3",
   "version": "3.6.8"
  }
 },
 "nbformat": 4,
 "nbformat_minor": 2
}
