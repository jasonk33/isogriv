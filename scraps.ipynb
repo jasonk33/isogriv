{
 "cells": [
  {
   "cell_type": "code",
   "execution_count": 6,
   "metadata": {},
   "outputs": [],
   "source": [
    "import pandas as pd\n",
    "import numpy as np"
   ]
  },
  {
   "cell_type": "code",
   "execution_count": null,
   "metadata": {},
   "outputs": [],
   "source": [
    "for year in reversed(range(1976,2020)):\n",
    "    text_file = open(\"launch_scripts/description_features/launch_{}.sh\".format(year), \"w\")\n",
    "    text_file.write(\"#!/bin/bash\\n\")\n",
    "    text_file.write(\"#SBATCH -n 2\\n\")\n",
    "    text_file.write(\"#SBATCH -t 48:00:00\\n\")\n",
    "    text_file.write(\"#SBATCH --mem=32g\\n\")\n",
    "    text_file.write(\"module load python/3.6.6\\n\")\n",
    "    text_file.write(\"python3 /users/jkatz/scratch/Upwork/isogriv/get_description_features.py {}\".format(year))\n",
    "    text_file.close()"
   ]
  },
  {
   "cell_type": "code",
   "execution_count": null,
   "metadata": {},
   "outputs": [],
   "source": [
    "import os\n",
    "for year in reversed(range(1976,2020)):\n",
    "    os.system(\"sbatch launch_scripts/description_features/launch_{}.sh\".format(year))"
   ]
  },
  {
   "cell_type": "code",
   "execution_count": null,
   "metadata": {},
   "outputs": [],
   "source": [
    "import zipfile, os\n",
    "for file in os.listdir():   # get the list of files\n",
    "    if file[0:6] == \"detail\"\n",
    "        with zipfile.ZipFile(file) as item: # treat the file as a zip\n",
    "            item.extractall()  # extract it in the working directory"
   ]
  },
  {
   "cell_type": "code",
   "execution_count": 31,
   "metadata": {},
   "outputs": [
    {
     "name": "stderr",
     "output_type": "stream",
     "text": [
      "/Users/JasonKatz/anaconda/lib/python3.6/site-packages/IPython/core/interactiveshell.py:2717: DtypeWarning: Columns (8,9,11,12,13,14,15,16,17,19,20,21,22,23,26,27) have mixed types. Specify dtype option on import or set low_memory=False.\n",
      "  interactivity=interactivity, compiler=compiler, result=result)\n"
     ]
    }
   ],
   "source": [
    "df = pd.read_csv(\"/Users/JasonKatz/Downloads/ptab2_decisions.csv\")"
   ]
  },
  {
   "cell_type": "code",
   "execution_count": 33,
   "metadata": {},
   "outputs": [
    {
     "data": {
      "text/plain": [
       "51"
      ]
     },
     "execution_count": 33,
     "metadata": {},
     "output_type": "execute_result"
    }
   ],
   "source": [
    "len(list(np.unique(df['subdecision_type_category'])))"
   ]
  },
  {
   "cell_type": "code",
   "execution_count": null,
   "metadata": {},
   "outputs": [],
   "source": [
    "df.clip"
   ]
  },
  {
   "cell_type": "code",
   "execution_count": 39,
   "metadata": {},
   "outputs": [
    {
     "data": {
      "text/plain": [
       "'8271812'"
      ]
     },
     "execution_count": 39,
     "metadata": {},
     "output_type": "execute_result"
    }
   ],
   "source": [
    "df['respondent_patent_number'][0]"
   ]
  },
  {
   "cell_type": "code",
   "execution_count": 41,
   "metadata": {},
   "outputs": [
    {
     "data": {
      "text/plain": [
       "True"
      ]
     },
     "execution_count": 41,
     "metadata": {},
     "output_type": "execute_result"
    }
   ],
   "source": [
    "'8271812' in list(df['respondent_patent_number'])"
   ]
  },
  {
   "cell_type": "code",
   "execution_count": 57,
   "metadata": {},
   "outputs": [
    {
     "ename": "SyntaxError",
     "evalue": "EOL while scanning string literal (<ipython-input-57-258fb182bca1>, line 4)",
     "output_type": "error",
     "traceback": [
      "\u001b[0;36m  File \u001b[0;32m\"<ipython-input-57-258fb182bca1>\"\u001b[0;36m, line \u001b[0;32m4\u001b[0m\n\u001b[0;31m    text_file.write(\"\u001b[0m\n\u001b[0m                     ^\u001b[0m\n\u001b[0;31mSyntaxError\u001b[0m\u001b[0;31m:\u001b[0m EOL while scanning string literal\n"
     ]
    }
   ],
   "source": [
    "for year in reversed(range(1976,2020)):\n",
    "    text_file = open(\"python_scripts/parse_{}.py\".format(year), \"w\")\n",
    "    text_file.write(\"import csv\\n\")\n",
    "    text_file.write(\"import pandas as pd\\n\")\n",
    "    text_file.write(\"import sys\\n\")\n",
    "    text_file.write(\"import json\\n\")\n",
    "    text_file.write(\"patent_decisions_df = pd.read_csv('/users/jkatz/scratch/Upwork/isogriv/ptab2_decisions.csv')\\n\")\n",
    "    text_file.write(\"csv.field_size_limit(sys.maxsize)\\n\")\n",
    "    text_file.write(\"patent_descriptions = {}\\n\")\n",
    "    text_file.write(\"patents = list(patent_decisions_df['respondent_patent_number'])\\n\")\n",
    "    text_file.write(\"with open('/users/jkatz/scratch/Upwork/isogriv/detail_description_data/detail-desc-text-{}.tsv','r') as tsvin:\\n\".format(year))\n",
    "    text_file.write(\"    tsvin = csv.reader(tsvin, delimiter='\\t')\\n\")\n",
    "    text_file.write(\"    for row in tsvin:\\n\")\n",
    "    text_file.write(\"        if row[0] in patents:\\n\")\n",
    "    text_file.write(\"            patent_descriptions[row[0]] = row[1]\\n\")\n",
    "    text_file.write(\"with open('patent_descriptions/descriptions_{}.json', 'w') as f:\\n\".format(year))\n",
    "    text_file.write(\"    json.dump(patent_descriptions, f)\\n\")\n",
    "    text_file.close()"
   ]
  },
  {
   "cell_type": "code",
   "execution_count": 51,
   "metadata": {},
   "outputs": [],
   "source": [
    "import csv\n",
    "import sys\n",
    "impor\n",
    "\n",
    "patent_decisions_df = pd.read_csv(\"/Users/JasonKatz/Downloads/ptab2_decisions.csv\")\n",
    "csv.field_size_limit(sys.maxsize)\n",
    "patent_descriptions = {}\n",
    "patents = list(patent_decisions_df['respondent_patent_number'])\n",
    "with open('/Users/JasonKatz/Downloads/detail_desc_text_2019.tsv','r') as tsvin:\n",
    "    tsvin = csv.reader(tsvin, delimiter='\\t')\n",
    "\n",
    "    count = 0\n",
    "    for row in tsvin:\n",
    "        if row[0] in patents:\n",
    "            patent_descriptions[row[0]] = row[1]\n",
    "with open('patent_descriptions/descriptions_{}.json', 'w') as f:\n",
    "    json.dump(data, f)"
   ]
  },
  {
   "cell_type": "code",
   "execution_count": null,
   "metadata": {},
   "outputs": [],
   "source": []
  },
  {
   "cell_type": "code",
   "execution_count": null,
   "metadata": {},
   "outputs": [],
   "source": []
  },
  {
   "cell_type": "code",
   "execution_count": null,
   "metadata": {},
   "outputs": [],
   "source": [
    "import pandas as pd\n",
    "import os\n",
    "import json\n",
    "from joblib import dump, load"
   ]
  },
  {
   "cell_type": "code",
   "execution_count": null,
   "metadata": {},
   "outputs": [],
   "source": [
    "all_description_features = []\n",
    "for file_name in os.listdir(\"probability_data/\"):\n",
    "    with open(\"probability_data/{}\".format(file_name)) as f:\n",
    "        description_features = json.load(f)\n",
    "    for key,val in description_features.items():\n",
    "        all_description_features.append([key] + val)\n",
    "        \n",
    "all_description_features_df = pd.DataFrame(all_description_features, columns=['patent_id', 'description_word_count', \n",
    "                                                                              'fk_score', 'fig_counts'])\n",
    "all_description_features_df['patent_id'] = all_description_features_df['patent_id'].astype(str)"
   ]
  },
  {
   "cell_type": "code",
   "execution_count": null,
   "metadata": {},
   "outputs": [],
   "source": [
    "days_between_features = pd.read_csv(\"patent_days_between.csv\", index_col=0).rename(columns={'id':'patent_id'})\n",
    "days_between_features['patent_id'] = days_between_features['patent_id'].astype(str)"
   ]
  },
  {
   "cell_type": "code",
   "execution_count": null,
   "metadata": {},
   "outputs": [],
   "source": [
    "patent_data_preds = all_description_features_df.merge(days_between_features, on=\"patent_id\", how=\"inner\")"
   ]
  },
  {
   "cell_type": "code",
   "execution_count": null,
   "metadata": {},
   "outputs": [],
   "source": [
    "model = load(\"patent_GBC.joblib\")"
   ]
  },
  {
   "cell_type": "code",
   "execution_count": null,
   "metadata": {},
   "outputs": [],
   "source": [
    "patent_data_preds['good_claim_probability'] = model.predict_proba(patent_data.iloc[:,1:])[:,1]"
   ]
  },
  {
   "cell_type": "code",
   "execution_count": null,
   "metadata": {},
   "outputs": [],
   "source": [
    "patent_data_preds.to_csv(\"patent_data_preds.csv\")"
   ]
  },
  {
   "cell_type": "code",
   "execution_count": null,
   "metadata": {},
   "outputs": [],
   "source": []
  },
  {
   "cell_type": "code",
   "execution_count": null,
   "metadata": {},
   "outputs": [],
   "source": []
  },
  {
   "cell_type": "code",
   "execution_count": null,
   "metadata": {},
   "outputs": [],
   "source": []
  },
  {
   "cell_type": "code",
   "execution_count": null,
   "metadata": {},
   "outputs": [],
   "source": [
    "all_patent_descriptions = {}\n",
    "for year in range(1976,2020):\n",
    "    with open(\"patent_descriptions/descriptions_{}.json\".format(year)) as f:\n",
    "        patent_descriptions = json.load(f)\n",
    "    for key,val in patent_descriptions.items():\n",
    "        all_patent_descriptions[key] = val\n",
    "        \n",
    "all_patent_descriptions_df = pd.DataFrame(list(zip(list(all_patent_descriptions.keys()),list(all_patent_descriptions.values()))), columns=[\"patent_id\", \"detailed_description\"])"
   ]
  }
 ],
 "metadata": {
  "kernelspec": {
   "display_name": "Python 3",
   "language": "python",
   "name": "python3"
  },
  "language_info": {
   "codemirror_mode": {
    "name": "ipython",
    "version": 3
   },
   "file_extension": ".py",
   "mimetype": "text/x-python",
   "name": "python",
   "nbconvert_exporter": "python",
   "pygments_lexer": "ipython3",
   "version": "3.6.8"
  }
 },
 "nbformat": 4,
 "nbformat_minor": 2
}
