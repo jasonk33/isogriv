{
 "cells": [
  {
   "cell_type": "code",
   "execution_count": 18,
   "metadata": {},
   "outputs": [
    {
     "name": "stdout",
     "output_type": "stream",
     "text": [
      "The autotime extension is already loaded. To reload it, use:\n",
      "  %reload_ext autotime\n",
      "time: 54 ms\n"
     ]
    }
   ],
   "source": [
    "import json\n",
    "import pandas as pd\n",
    "import numpy as np\n",
    "from sklearn.linear_model import LogisticRegression\n",
    "from sklearn.model_selection import train_test_split\n",
    "from sklearn.metrics import accuracy_score, log_loss\n",
    "from sklearn.preprocessing import Normalizer\n",
    "from sklearn.ensemble import GradientBoostingClassifier, RandomForestClassifier\n",
    "from sklearn.tree import DecisionTreeClassifier\n",
    "from sklearn.neighbors import KNeighborsClassifier\n",
    "from sklearn.model_selection import cross_validate, RepeatedKFold, cross_val_score\n",
    "from readability import Readability\n",
    "import nltk\n",
    "from tqdm import tqdm\n",
    "import seaborn as sns\n",
    "import matplotlib.pyplot as plt\n",
    "%load_ext autotime\n",
    "%matplotlib inline"
   ]
  },
  {
   "cell_type": "code",
   "execution_count": 26,
   "metadata": {},
   "outputs": [
    {
     "name": "stdout",
     "output_type": "stream",
     "text": [
      "time: 11.8 s\n"
     ]
    }
   ],
   "source": [
    "patent_descriptions_df = pd.read_csv(\"patent_descriptions.csv\", index_col=0)"
   ]
  },
  {
   "cell_type": "code",
   "execution_count": 27,
   "metadata": {},
   "outputs": [
    {
     "name": "stdout",
     "output_type": "stream",
     "text": [
      "time: 540 ms\n"
     ]
    },
    {
     "name": "stderr",
     "output_type": "stream",
     "text": [
      "/Users/JasonKatz/anaconda/lib/python3.6/site-packages/IPython/core/interactiveshell.py:2717: DtypeWarning: Columns (8,9,11,12,13,14,15,16,17,19,20,21,22,23,26,27) have mixed types. Specify dtype option on import or set low_memory=False.\n",
      "  interactivity=interactivity, compiler=compiler, result=result)\n"
     ]
    }
   ],
   "source": [
    "decisions_df = pd.read_csv(\"ptab2_decisions.csv\")"
   ]
  },
  {
   "cell_type": "code",
   "execution_count": 28,
   "metadata": {},
   "outputs": [
    {
     "name": "stdout",
     "output_type": "stream",
     "text": [
      "time: 284 ms\n"
     ]
    }
   ],
   "source": [
    "proceedings_df = pd.read_csv(\"ptab2_proceedings.csv\")"
   ]
  },
  {
   "cell_type": "code",
   "execution_count": 29,
   "metadata": {},
   "outputs": [
    {
     "name": "stdout",
     "output_type": "stream",
     "text": [
      "time: 38.3 ms\n"
     ]
    }
   ],
   "source": [
    "ignore_categories = ['Administrative Remand', 'Affirmed', 'Affirmed and Remanded', 'Affirmed with New Ground of Rejection   ', \n",
    "                'Affirmed with new ground of rejection   ', 'Affirmed-in-Part', 'Affirmed-in-Part and Remanded', \n",
    "                'Affirmed-in-part and remanded with new ground of rejection   ', 'Affirmed-in-part with new ground of rejection  ', \n",
    "                'Inter partes reexam affirmed', 'Inter partes reexam affirmed-in-part', 'Inter partes reexam new ground of rejection', \n",
    "                'Inter partes reexam rehearing decision is a new decision', 'Inter partes reexam remand ', 'Inter partes reexam reversed', \n",
    "                'Panel Remand', 'Reexam affirmed', 'Reexam affirmed-in-part', 'Reexam affirmed-in-part with new ground of rejection  ', \n",
    "                'Reexam rehearing decision final and appealable', 'Reexam rehearing decision is a new decision', 'Reexam reversed', \n",
    "                'Request for Adverse Judgment after Institution', 'Request for Adverse Judgment before Institution', 'Reversed', \n",
    "                'Reversed and Remanded', 'Reversed with New Ground of Rejection  ', 'Reversed with new ground of rejection  ', 'Vacated', \n",
    "                'Vacated and Remanded', 'Vacated with new ground of rejection   ', 'Vacated-in-Part', 'Termination']\n",
    "\n",
    "good_claim_categories = ['Denied (Patent Owner)', 'Final Decision', 'Final decision', 'Granted', 'Granted (Patent Owner)', 'Granted (Petitioner)', \n",
    "                         'Granted-In-Part', 'Granted-in-Part (Patent Owner)', 'Granted-in-Part (Petitioner)', 'Settlement', 'Settlement after Institution', \n",
    "                         'Dismissed after Institution']\n",
    "\n",
    "bad_claim_categories = ['Decision on Petition - Denied', 'Denied (Petitioner)', 'Dismissed', 'Dismissed before Institution', \n",
    "                        'Institution Denied', 'Settlement before Institution']"
   ]
  },
  {
   "cell_type": "code",
   "execution_count": 30,
   "metadata": {},
   "outputs": [
    {
     "name": "stdout",
     "output_type": "stream",
     "text": [
      "time: 41.5 ms\n"
     ]
    }
   ],
   "source": [
    "decisions_df = decisions_df[~decisions_df['subdecision_type_category'].isin(ignore_categories)]"
   ]
  },
  {
   "cell_type": "code",
   "execution_count": 31,
   "metadata": {},
   "outputs": [
    {
     "name": "stdout",
     "output_type": "stream",
     "text": [
      "time: 834 ms\n"
     ]
    }
   ],
   "source": [
    "decisions_df['good_claim'] = decisions_df['subdecision_type_category'].isin(good_claim_categories).astype(int)"
   ]
  },
  {
   "cell_type": "code",
   "execution_count": 32,
   "metadata": {},
   "outputs": [
    {
     "name": "stdout",
     "output_type": "stream",
     "text": [
      "time: 1.77 ms\n"
     ]
    }
   ],
   "source": [
    "training_data = pd.DataFrame()"
   ]
  },
  {
   "cell_type": "code",
   "execution_count": 33,
   "metadata": {},
   "outputs": [
    {
     "name": "stdout",
     "output_type": "stream",
     "text": [
      "time: 9.79 ms\n"
     ]
    }
   ],
   "source": [
    "training_data['proceeding_number'] = decisions_df['proceeding_number']\n",
    "training_data['patent_id'] = decisions_df['respondent_patent_number']\n",
    "training_data['technology_center'] = decisions_df['respondent_technology_center_number']\n",
    "training_data['good_claim'] = decisions_df['good_claim']"
   ]
  },
  {
   "cell_type": "code",
   "execution_count": 97,
   "metadata": {},
   "outputs": [
    {
     "name": "stdout",
     "output_type": "stream",
     "text": [
      "time: 2.92 s\n"
     ]
    }
   ],
   "source": [
    "training_data = training_data.merge(patent_descriptions_df, on=\"patent_id\", how=\"left\")"
   ]
  },
  {
   "cell_type": "code",
   "execution_count": 98,
   "metadata": {},
   "outputs": [
    {
     "name": "stdout",
     "output_type": "stream",
     "text": [
      "time: 88.3 ms\n"
     ]
    }
   ],
   "source": [
    "training_data = training_data.merge(proceedings_df[['proceeding_number', 'accorded_filing_date', 'respondent_grant_date']], on=\"proceeding_number\", how=\"left\").dropna()"
   ]
  },
  {
   "cell_type": "code",
   "execution_count": 99,
   "metadata": {},
   "outputs": [
    {
     "name": "stdout",
     "output_type": "stream",
     "text": [
      "time: 522 ms\n"
     ]
    }
   ],
   "source": [
    "training_data['accorded_filing_date'] = pd.to_datetime(training_data['accorded_filing_date'])\n",
    "training_data['respondent_grant_date'] = pd.to_datetime(training_data['respondent_grant_date'])\n",
    "training_data['days_between_grant_and_filing'] = (training_data['accorded_filing_date'] - training_data['respondent_grant_date']).dt.days.astype('int16')"
   ]
  },
  {
   "cell_type": "code",
   "execution_count": 36,
   "metadata": {},
   "outputs": [
    {
     "ename": "KeyError",
     "evalue": "'detailed_description'",
     "output_type": "error",
     "traceback": [
      "\u001b[0;31m---------------------------------------------------------------------------\u001b[0m",
      "\u001b[0;31mKeyError\u001b[0m                                  Traceback (most recent call last)",
      "\u001b[0;32m/Users/JasonKatz/anaconda/lib/python3.6/site-packages/pandas/core/indexes/base.py\u001b[0m in \u001b[0;36mget_loc\u001b[0;34m(self, key, method, tolerance)\u001b[0m\n\u001b[1;32m   2656\u001b[0m             \u001b[0;32mtry\u001b[0m\u001b[0;34m:\u001b[0m\u001b[0;34m\u001b[0m\u001b[0;34m\u001b[0m\u001b[0m\n\u001b[0;32m-> 2657\u001b[0;31m                 \u001b[0;32mreturn\u001b[0m \u001b[0mself\u001b[0m\u001b[0;34m.\u001b[0m\u001b[0m_engine\u001b[0m\u001b[0;34m.\u001b[0m\u001b[0mget_loc\u001b[0m\u001b[0;34m(\u001b[0m\u001b[0mkey\u001b[0m\u001b[0;34m)\u001b[0m\u001b[0;34m\u001b[0m\u001b[0;34m\u001b[0m\u001b[0m\n\u001b[0m\u001b[1;32m   2658\u001b[0m             \u001b[0;32mexcept\u001b[0m \u001b[0mKeyError\u001b[0m\u001b[0;34m:\u001b[0m\u001b[0;34m\u001b[0m\u001b[0;34m\u001b[0m\u001b[0m\n",
      "\u001b[0;32mpandas/_libs/index.pyx\u001b[0m in \u001b[0;36mpandas._libs.index.IndexEngine.get_loc\u001b[0;34m()\u001b[0m\n",
      "\u001b[0;32mpandas/_libs/index.pyx\u001b[0m in \u001b[0;36mpandas._libs.index.IndexEngine.get_loc\u001b[0;34m()\u001b[0m\n",
      "\u001b[0;32mpandas/_libs/hashtable_class_helper.pxi\u001b[0m in \u001b[0;36mpandas._libs.hashtable.PyObjectHashTable.get_item\u001b[0;34m()\u001b[0m\n",
      "\u001b[0;32mpandas/_libs/hashtable_class_helper.pxi\u001b[0m in \u001b[0;36mpandas._libs.hashtable.PyObjectHashTable.get_item\u001b[0;34m()\u001b[0m\n",
      "\u001b[0;31mKeyError\u001b[0m: 'detailed_description'",
      "\nDuring handling of the above exception, another exception occurred:\n",
      "\u001b[0;31mKeyError\u001b[0m                                  Traceback (most recent call last)",
      "\u001b[0;32m<ipython-input-36-ef52f89958b0>\u001b[0m in \u001b[0;36m<module>\u001b[0;34m()\u001b[0m\n\u001b[0;32m----> 1\u001b[0;31m \u001b[0mtraining_data\u001b[0m\u001b[0;34m[\u001b[0m\u001b[0;34m'description_word_count'\u001b[0m\u001b[0;34m]\u001b[0m \u001b[0;34m=\u001b[0m \u001b[0mtraining_data\u001b[0m\u001b[0;34m[\u001b[0m\u001b[0;34m'detailed_description'\u001b[0m\u001b[0;34m]\u001b[0m\u001b[0;34m.\u001b[0m\u001b[0mstr\u001b[0m\u001b[0;34m.\u001b[0m\u001b[0msplit\u001b[0m\u001b[0;34m(\u001b[0m\u001b[0;34m)\u001b[0m\u001b[0;34m.\u001b[0m\u001b[0mstr\u001b[0m\u001b[0;34m.\u001b[0m\u001b[0mlen\u001b[0m\u001b[0;34m(\u001b[0m\u001b[0;34m)\u001b[0m\u001b[0;34m\u001b[0m\u001b[0;34m\u001b[0m\u001b[0m\n\u001b[0m",
      "\u001b[0;32m/Users/JasonKatz/anaconda/lib/python3.6/site-packages/pandas/core/frame.py\u001b[0m in \u001b[0;36m__getitem__\u001b[0;34m(self, key)\u001b[0m\n\u001b[1;32m   2925\u001b[0m             \u001b[0;32mif\u001b[0m \u001b[0mself\u001b[0m\u001b[0;34m.\u001b[0m\u001b[0mcolumns\u001b[0m\u001b[0;34m.\u001b[0m\u001b[0mnlevels\u001b[0m \u001b[0;34m>\u001b[0m \u001b[0;36m1\u001b[0m\u001b[0;34m:\u001b[0m\u001b[0;34m\u001b[0m\u001b[0;34m\u001b[0m\u001b[0m\n\u001b[1;32m   2926\u001b[0m                 \u001b[0;32mreturn\u001b[0m \u001b[0mself\u001b[0m\u001b[0;34m.\u001b[0m\u001b[0m_getitem_multilevel\u001b[0m\u001b[0;34m(\u001b[0m\u001b[0mkey\u001b[0m\u001b[0;34m)\u001b[0m\u001b[0;34m\u001b[0m\u001b[0;34m\u001b[0m\u001b[0m\n\u001b[0;32m-> 2927\u001b[0;31m             \u001b[0mindexer\u001b[0m \u001b[0;34m=\u001b[0m \u001b[0mself\u001b[0m\u001b[0;34m.\u001b[0m\u001b[0mcolumns\u001b[0m\u001b[0;34m.\u001b[0m\u001b[0mget_loc\u001b[0m\u001b[0;34m(\u001b[0m\u001b[0mkey\u001b[0m\u001b[0;34m)\u001b[0m\u001b[0;34m\u001b[0m\u001b[0;34m\u001b[0m\u001b[0m\n\u001b[0m\u001b[1;32m   2928\u001b[0m             \u001b[0;32mif\u001b[0m \u001b[0mis_integer\u001b[0m\u001b[0;34m(\u001b[0m\u001b[0mindexer\u001b[0m\u001b[0;34m)\u001b[0m\u001b[0;34m:\u001b[0m\u001b[0;34m\u001b[0m\u001b[0;34m\u001b[0m\u001b[0m\n\u001b[1;32m   2929\u001b[0m                 \u001b[0mindexer\u001b[0m \u001b[0;34m=\u001b[0m \u001b[0;34m[\u001b[0m\u001b[0mindexer\u001b[0m\u001b[0;34m]\u001b[0m\u001b[0;34m\u001b[0m\u001b[0;34m\u001b[0m\u001b[0m\n",
      "\u001b[0;32m/Users/JasonKatz/anaconda/lib/python3.6/site-packages/pandas/core/indexes/base.py\u001b[0m in \u001b[0;36mget_loc\u001b[0;34m(self, key, method, tolerance)\u001b[0m\n\u001b[1;32m   2657\u001b[0m                 \u001b[0;32mreturn\u001b[0m \u001b[0mself\u001b[0m\u001b[0;34m.\u001b[0m\u001b[0m_engine\u001b[0m\u001b[0;34m.\u001b[0m\u001b[0mget_loc\u001b[0m\u001b[0;34m(\u001b[0m\u001b[0mkey\u001b[0m\u001b[0;34m)\u001b[0m\u001b[0;34m\u001b[0m\u001b[0;34m\u001b[0m\u001b[0m\n\u001b[1;32m   2658\u001b[0m             \u001b[0;32mexcept\u001b[0m \u001b[0mKeyError\u001b[0m\u001b[0;34m:\u001b[0m\u001b[0;34m\u001b[0m\u001b[0;34m\u001b[0m\u001b[0m\n\u001b[0;32m-> 2659\u001b[0;31m                 \u001b[0;32mreturn\u001b[0m \u001b[0mself\u001b[0m\u001b[0;34m.\u001b[0m\u001b[0m_engine\u001b[0m\u001b[0;34m.\u001b[0m\u001b[0mget_loc\u001b[0m\u001b[0;34m(\u001b[0m\u001b[0mself\u001b[0m\u001b[0;34m.\u001b[0m\u001b[0m_maybe_cast_indexer\u001b[0m\u001b[0;34m(\u001b[0m\u001b[0mkey\u001b[0m\u001b[0;34m)\u001b[0m\u001b[0;34m)\u001b[0m\u001b[0;34m\u001b[0m\u001b[0;34m\u001b[0m\u001b[0m\n\u001b[0m\u001b[1;32m   2660\u001b[0m         \u001b[0mindexer\u001b[0m \u001b[0;34m=\u001b[0m \u001b[0mself\u001b[0m\u001b[0;34m.\u001b[0m\u001b[0mget_indexer\u001b[0m\u001b[0;34m(\u001b[0m\u001b[0;34m[\u001b[0m\u001b[0mkey\u001b[0m\u001b[0;34m]\u001b[0m\u001b[0;34m,\u001b[0m \u001b[0mmethod\u001b[0m\u001b[0;34m=\u001b[0m\u001b[0mmethod\u001b[0m\u001b[0;34m,\u001b[0m \u001b[0mtolerance\u001b[0m\u001b[0;34m=\u001b[0m\u001b[0mtolerance\u001b[0m\u001b[0;34m)\u001b[0m\u001b[0;34m\u001b[0m\u001b[0;34m\u001b[0m\u001b[0m\n\u001b[1;32m   2661\u001b[0m         \u001b[0;32mif\u001b[0m \u001b[0mindexer\u001b[0m\u001b[0;34m.\u001b[0m\u001b[0mndim\u001b[0m \u001b[0;34m>\u001b[0m \u001b[0;36m1\u001b[0m \u001b[0;32mor\u001b[0m \u001b[0mindexer\u001b[0m\u001b[0;34m.\u001b[0m\u001b[0msize\u001b[0m \u001b[0;34m>\u001b[0m \u001b[0;36m1\u001b[0m\u001b[0;34m:\u001b[0m\u001b[0;34m\u001b[0m\u001b[0;34m\u001b[0m\u001b[0m\n",
      "\u001b[0;32mpandas/_libs/index.pyx\u001b[0m in \u001b[0;36mpandas._libs.index.IndexEngine.get_loc\u001b[0;34m()\u001b[0m\n",
      "\u001b[0;32mpandas/_libs/index.pyx\u001b[0m in \u001b[0;36mpandas._libs.index.IndexEngine.get_loc\u001b[0;34m()\u001b[0m\n",
      "\u001b[0;32mpandas/_libs/hashtable_class_helper.pxi\u001b[0m in \u001b[0;36mpandas._libs.hashtable.PyObjectHashTable.get_item\u001b[0;34m()\u001b[0m\n",
      "\u001b[0;32mpandas/_libs/hashtable_class_helper.pxi\u001b[0m in \u001b[0;36mpandas._libs.hashtable.PyObjectHashTable.get_item\u001b[0;34m()\u001b[0m\n",
      "\u001b[0;31mKeyError\u001b[0m: 'detailed_description'"
     ]
    },
    {
     "name": "stdout",
     "output_type": "stream",
     "text": [
      "time: 311 ms\n"
     ]
    }
   ],
   "source": [
    "training_data['description_word_count'] = training_data['detailed_description'].str.split().str.len()"
   ]
  },
  {
   "cell_type": "code",
   "execution_count": 106,
   "metadata": {},
   "outputs": [
    {
     "name": "stdout",
     "output_type": "stream",
     "text": [
      "time: 33.2 ms\n"
     ]
    }
   ],
   "source": [
    "training_data = pd.get_dummies(training_data, columns=['technology_center'])"
   ]
  },
  {
   "cell_type": "code",
   "execution_count": 95,
   "metadata": {},
   "outputs": [
    {
     "name": "stdout",
     "output_type": "stream",
     "text": [
      "time: 15.5 s\n"
     ]
    }
   ],
   "source": [
    "# training_data.to_csv(\"training_data.csv\")"
   ]
  },
  {
   "cell_type": "code",
   "execution_count": 118,
   "metadata": {},
   "outputs": [
    {
     "name": "stdout",
     "output_type": "stream",
     "text": [
      "time: 439 ms\n"
     ]
    }
   ],
   "source": [
    "X = training_data.iloc[:,6:]\n",
    "X = training_data[['days_between_grant_and_filing', 'description_word_count', 'fk_score', 'fig_counts']]\n",
    "y = training_data['good_claim']"
   ]
  },
  {
   "cell_type": "code",
   "execution_count": 119,
   "metadata": {},
   "outputs": [
    {
     "name": "stdout",
     "output_type": "stream",
     "text": [
      "time: 16.8 s\n"
     ]
    }
   ],
   "source": [
    "model = GradientBoostingClassifier(learning_rate=.1, n_estimators=100, max_depth=5, subsample=1, min_samples_split=2, random_state=33)\n",
    "# model = RandomForestClassifier(n_estimators=50, random_state=33, max_depth=3, min_samples_split=2, max_features=\"sqrt\")\n",
    "# model = LogisticRegression()\n",
    "# model = DecisionTreeClassifier()\n",
    "# model = KNeighborsClassifier(n_neighbors=100, n_jobs=-1)\n",
    "cv_results = cross_validate(model, X, y, cv=RepeatedKFold(n_splits=7, n_repeats=3, random_state=7), n_jobs=-1, return_train_score=True, \n",
    "                            scoring=['accuracy', 'neg_log_loss'])"
   ]
  },
  {
   "cell_type": "code",
   "execution_count": null,
   "metadata": {},
   "outputs": [],
   "source": []
  },
  {
   "cell_type": "code",
   "execution_count": 120,
   "metadata": {},
   "outputs": [
    {
     "name": "stdout",
     "output_type": "stream",
     "text": [
      "Accuracy: 0.7422466545868435\n",
      "Log Loss: 0.5434979089880754\n",
      "time: 49.4 ms\n"
     ]
    }
   ],
   "source": [
    "print(\"Accuracy: {}\".format(cv_results['test_accuracy'].mean()))\n",
    "print(\"Log Loss: {}\".format(-cv_results['test_neg_log_loss'].mean()))"
   ]
  },
  {
   "cell_type": "code",
   "execution_count": null,
   "metadata": {},
   "outputs": [],
   "source": []
  },
  {
   "cell_type": "code",
   "execution_count": null,
   "metadata": {},
   "outputs": [],
   "source": []
  },
  {
   "cell_type": "code",
   "execution_count": 256,
   "metadata": {},
   "outputs": [
    {
     "name": "stdout",
     "output_type": "stream",
     "text": [
      "Accuracy: 0.7458920179320401\n",
      "Log Loss: 0.5375062279500918\n",
      "time: 3.59 ms\n"
     ]
    }
   ],
   "source": [
    "print(\"Accuracy: {}\".format(cv_results['test_accuracy'].mean()))\n",
    "print(\"Log Loss: {}\".format(-cv_results['test_neg_log_loss'].mean()))"
   ]
  },
  {
   "cell_type": "code",
   "execution_count": null,
   "metadata": {},
   "outputs": [],
   "source": []
  },
  {
   "cell_type": "code",
   "execution_count": null,
   "metadata": {},
   "outputs": [],
   "source": []
  },
  {
   "cell_type": "code",
   "execution_count": 258,
   "metadata": {},
   "outputs": [
    {
     "name": "stdout",
     "output_type": "stream",
     "text": [
      "Naive Accuracy: 0.7109751575824991\n",
      "Naive Log Loss: 0.6012762313064095\n",
      "time: 11.3 ms\n"
     ]
    }
   ],
   "source": [
    "print(\"Naive Accuracy: {}\".format(y.mean()))\n",
    "print(\"Naive Log Loss: {}\".format(log_loss(y, [y.mean()]*len(y))))"
   ]
  },
  {
   "cell_type": "code",
   "execution_count": null,
   "metadata": {},
   "outputs": [],
   "source": []
  },
  {
   "cell_type": "code",
   "execution_count": 75,
   "metadata": {},
   "outputs": [
    {
     "name": "stdout",
     "output_type": "stream",
     "text": [
      "time: 5.38 s\n"
     ]
    }
   ],
   "source": [
    "training_data = pd.read_csv(\"training_data.csv\", index_col=0)"
   ]
  },
  {
   "cell_type": "code",
   "execution_count": 5,
   "metadata": {},
   "outputs": [
    {
     "data": {
      "text/plain": [
       "(5394, 22)"
      ]
     },
     "execution_count": 5,
     "metadata": {},
     "output_type": "execute_result"
    },
    {
     "name": "stdout",
     "output_type": "stream",
     "text": [
      "time: 5.72 ms\n"
     ]
    }
   ],
   "source": [
    "training_data.shape"
   ]
  },
  {
   "cell_type": "code",
   "execution_count": 74,
   "metadata": {},
   "outputs": [
    {
     "data": {
      "text/plain": [
       "0.7109751575824991"
      ]
     },
     "execution_count": 74,
     "metadata": {},
     "output_type": "execute_result"
    },
    {
     "name": "stdout",
     "output_type": "stream",
     "text": [
      "time: 12.8 ms\n"
     ]
    }
   ],
   "source": [
    "training_data['good_claim'].mean()"
   ]
  },
  {
   "cell_type": "code",
   "execution_count": 117,
   "metadata": {},
   "outputs": [
    {
     "data": {
      "text/html": [
       "<div>\n",
       "<style scoped>\n",
       "    .dataframe tbody tr th:only-of-type {\n",
       "        vertical-align: middle;\n",
       "    }\n",
       "\n",
       "    .dataframe tbody tr th {\n",
       "        vertical-align: top;\n",
       "    }\n",
       "\n",
       "    .dataframe thead th {\n",
       "        text-align: right;\n",
       "    }\n",
       "</style>\n",
       "<table border=\"1\" class=\"dataframe\">\n",
       "  <thead>\n",
       "    <tr style=\"text-align: right;\">\n",
       "      <th></th>\n",
       "      <th>proceeding_number</th>\n",
       "      <th>patent_id</th>\n",
       "      <th>good_claim</th>\n",
       "      <th>detailed_description</th>\n",
       "      <th>accorded_filing_date</th>\n",
       "      <th>respondent_grant_date</th>\n",
       "      <th>days_between_grant_and_filing</th>\n",
       "      <th>technology_center_1200</th>\n",
       "      <th>technology_center_1600</th>\n",
       "      <th>technology_center_1700</th>\n",
       "      <th>...</th>\n",
       "      <th>technology_center_2700</th>\n",
       "      <th>technology_center_2800</th>\n",
       "      <th>technology_center_3600</th>\n",
       "      <th>technology_center_3700</th>\n",
       "      <th>technology_center_3900</th>\n",
       "      <th>technology_center_ODM</th>\n",
       "      <th>technology_center_OPIM</th>\n",
       "      <th>description_word_count</th>\n",
       "      <th>fk_score</th>\n",
       "      <th>fig_counts</th>\n",
       "    </tr>\n",
       "  </thead>\n",
       "  <tbody>\n",
       "    <tr>\n",
       "      <th>0</th>\n",
       "      <td>PGR2018-00008</td>\n",
       "      <td>9597594</td>\n",
       "      <td>0</td>\n",
       "      <td>DESCRIPTION Hereinafter, with reference to the...</td>\n",
       "      <td>2017-11-07</td>\n",
       "      <td>2017-03-21</td>\n",
       "      <td>231</td>\n",
       "      <td>0</td>\n",
       "      <td>0</td>\n",
       "      <td>0</td>\n",
       "      <td>...</td>\n",
       "      <td>0</td>\n",
       "      <td>0</td>\n",
       "      <td>0</td>\n",
       "      <td>1</td>\n",
       "      <td>0</td>\n",
       "      <td>0</td>\n",
       "      <td>0</td>\n",
       "      <td>13494</td>\n",
       "      <td>13.314722</td>\n",
       "      <td>69</td>\n",
       "    </tr>\n",
       "    <tr>\n",
       "      <th>1</th>\n",
       "      <td>IPR2018-01566</td>\n",
       "      <td>8367337</td>\n",
       "      <td>1</td>\n",
       "      <td>As discussed herein, the present invention pro...</td>\n",
       "      <td>2018-08-21</td>\n",
       "      <td>2013-02-05</td>\n",
       "      <td>2023</td>\n",
       "      <td>0</td>\n",
       "      <td>1</td>\n",
       "      <td>0</td>\n",
       "      <td>...</td>\n",
       "      <td>0</td>\n",
       "      <td>0</td>\n",
       "      <td>0</td>\n",
       "      <td>0</td>\n",
       "      <td>0</td>\n",
       "      <td>0</td>\n",
       "      <td>0</td>\n",
       "      <td>7893</td>\n",
       "      <td>19.433383</td>\n",
       "      <td>8</td>\n",
       "    </tr>\n",
       "    <tr>\n",
       "      <th>2</th>\n",
       "      <td>IPR2019-00015</td>\n",
       "      <td>8409052</td>\n",
       "      <td>0</td>\n",
       "      <td>DESCRIPTION OF THE PREFERRED EMBODIMENT An exe...</td>\n",
       "      <td>2018-10-31</td>\n",
       "      <td>2013-04-02</td>\n",
       "      <td>2038</td>\n",
       "      <td>0</td>\n",
       "      <td>0</td>\n",
       "      <td>0</td>\n",
       "      <td>...</td>\n",
       "      <td>0</td>\n",
       "      <td>0</td>\n",
       "      <td>1</td>\n",
       "      <td>0</td>\n",
       "      <td>0</td>\n",
       "      <td>0</td>\n",
       "      <td>0</td>\n",
       "      <td>4224</td>\n",
       "      <td>14.952263</td>\n",
       "      <td>17</td>\n",
       "    </tr>\n",
       "    <tr>\n",
       "      <th>3</th>\n",
       "      <td>IPR2018-00159</td>\n",
       "      <td>9023979</td>\n",
       "      <td>1</td>\n",
       "      <td>DESCRIPTION OF SPECIFIC EMBODIMENTS Hereinafte...</td>\n",
       "      <td>2017-11-10</td>\n",
       "      <td>2015-05-05</td>\n",
       "      <td>920</td>\n",
       "      <td>0</td>\n",
       "      <td>0</td>\n",
       "      <td>1</td>\n",
       "      <td>...</td>\n",
       "      <td>0</td>\n",
       "      <td>0</td>\n",
       "      <td>0</td>\n",
       "      <td>0</td>\n",
       "      <td>0</td>\n",
       "      <td>0</td>\n",
       "      <td>0</td>\n",
       "      <td>9089</td>\n",
       "      <td>20.703933</td>\n",
       "      <td>7</td>\n",
       "    </tr>\n",
       "    <tr>\n",
       "      <th>4</th>\n",
       "      <td>IPR2017-02108</td>\n",
       "      <td>8508751</td>\n",
       "      <td>1</td>\n",
       "      <td>DETAILED DESCRIPTION OF THE EMBODIMENTS With r...</td>\n",
       "      <td>2017-09-15</td>\n",
       "      <td>2013-08-13</td>\n",
       "      <td>1494</td>\n",
       "      <td>0</td>\n",
       "      <td>0</td>\n",
       "      <td>0</td>\n",
       "      <td>...</td>\n",
       "      <td>0</td>\n",
       "      <td>0</td>\n",
       "      <td>0</td>\n",
       "      <td>0</td>\n",
       "      <td>0</td>\n",
       "      <td>0</td>\n",
       "      <td>0</td>\n",
       "      <td>2446</td>\n",
       "      <td>15.367966</td>\n",
       "      <td>11</td>\n",
       "    </tr>\n",
       "  </tbody>\n",
       "</table>\n",
       "<p>5 rows × 23 columns</p>\n",
       "</div>"
      ],
      "text/plain": [
       "  proceeding_number patent_id  good_claim  \\\n",
       "0     PGR2018-00008   9597594           0   \n",
       "1     IPR2018-01566   8367337           1   \n",
       "2     IPR2019-00015   8409052           0   \n",
       "3     IPR2018-00159   9023979           1   \n",
       "4     IPR2017-02108   8508751           1   \n",
       "\n",
       "                                detailed_description accorded_filing_date  \\\n",
       "0  DESCRIPTION Hereinafter, with reference to the...           2017-11-07   \n",
       "1  As discussed herein, the present invention pro...           2018-08-21   \n",
       "2  DESCRIPTION OF THE PREFERRED EMBODIMENT An exe...           2018-10-31   \n",
       "3  DESCRIPTION OF SPECIFIC EMBODIMENTS Hereinafte...           2017-11-10   \n",
       "4  DETAILED DESCRIPTION OF THE EMBODIMENTS With r...           2017-09-15   \n",
       "\n",
       "  respondent_grant_date  days_between_grant_and_filing  \\\n",
       "0            2017-03-21                            231   \n",
       "1            2013-02-05                           2023   \n",
       "2            2013-04-02                           2038   \n",
       "3            2015-05-05                            920   \n",
       "4            2013-08-13                           1494   \n",
       "\n",
       "   technology_center_1200  technology_center_1600  technology_center_1700  \\\n",
       "0                       0                       0                       0   \n",
       "1                       0                       1                       0   \n",
       "2                       0                       0                       0   \n",
       "3                       0                       0                       1   \n",
       "4                       0                       0                       0   \n",
       "\n",
       "   ...  technology_center_2700  technology_center_2800  \\\n",
       "0  ...                       0                       0   \n",
       "1  ...                       0                       0   \n",
       "2  ...                       0                       0   \n",
       "3  ...                       0                       0   \n",
       "4  ...                       0                       0   \n",
       "\n",
       "   technology_center_3600  technology_center_3700  technology_center_3900  \\\n",
       "0                       0                       1                       0   \n",
       "1                       0                       0                       0   \n",
       "2                       1                       0                       0   \n",
       "3                       0                       0                       0   \n",
       "4                       0                       0                       0   \n",
       "\n",
       "   technology_center_ODM  technology_center_OPIM  description_word_count  \\\n",
       "0                      0                       0                   13494   \n",
       "1                      0                       0                    7893   \n",
       "2                      0                       0                    4224   \n",
       "3                      0                       0                    9089   \n",
       "4                      0                       0                    2446   \n",
       "\n",
       "    fk_score  fig_counts  \n",
       "0  13.314722          69  \n",
       "1  19.433383           8  \n",
       "2  14.952263          17  \n",
       "3  20.703933           7  \n",
       "4  15.367966          11  \n",
       "\n",
       "[5 rows x 23 columns]"
      ]
     },
     "execution_count": 117,
     "metadata": {},
     "output_type": "execute_result"
    },
    {
     "name": "stdout",
     "output_type": "stream",
     "text": [
      "time: 385 ms\n"
     ]
    }
   ],
   "source": [
    "training_data.head()"
   ]
  },
  {
   "cell_type": "code",
   "execution_count": 90,
   "metadata": {},
   "outputs": [
    {
     "name": "stdout",
     "output_type": "stream",
     "text": [
      "time: 4.44 s\n"
     ]
    }
   ],
   "source": [
    "clinical_trial_counts = []\n",
    "bio_similar_counts = []\n",
    "biologic_counts = []\n",
    "fig_counts = []\n",
    "patent_references = []\n",
    "for description in training_data['detailed_description']:\n",
    "    description = description.lower()\n",
    "    clinical_trial_counts.append(description.count(\"clinical trial\"))\n",
    "    bio_similar_counts.append(description.count(\"bio-similar\"))\n",
    "    biologic_counts.append(description.count(\"biologic\"))\n",
    "    fig_counts.append(description.count(\"fig.\") + description.count(\"figs.\"))\n",
    "    patent_references.append(description.count(\"pat. no.\"))"
   ]
  },
  {
   "cell_type": "code",
   "execution_count": 231,
   "metadata": {},
   "outputs": [
    {
     "name": "stdout",
     "output_type": "stream",
     "text": [
      "time: 6.76 ms\n"
     ]
    }
   ],
   "source": [
    "# X['patent_references'] = patent_references -- might help\n",
    "# X['fig_counts'] = fig_counts\n",
    "# X['clinical_trial_counts'] = clinical_trial_counts\n",
    "# X['bio_similar_counts'] = bio_similar_counts"
   ]
  },
  {
   "cell_type": "code",
   "execution_count": null,
   "metadata": {},
   "outputs": [],
   "source": []
  },
  {
   "cell_type": "code",
   "execution_count": null,
   "metadata": {},
   "outputs": [],
   "source": [
    "import pandas as pd\n",
    "from readability import Readability\n",
    "import sys\n",
    "import csv\n",
    "csv.field_size_limit(sys.maxsize)"
   ]
  },
  {
   "cell_type": "code",
   "execution_count": null,
   "metadata": {},
   "outputs": [],
   "source": [
    "description_features = {}\n",
    "with open(\"detail_description_data/detail-desc-text-{}.tsv\".format(sys.argv[1]),'r') as tsvin:\n",
    "    tsvin = csv.reader(tsvin, delimiter='\\t')\n",
    "    for row in tsvin:\n",
    "        patent_id = row[0]\n",
    "        detail_description_text = row[1]\n",
    "        try:\n",
    "            description_word_count = len(detail_description_text.split())\n",
    "            fig_counts = detail_description_text.count(\"fig.\") + detail_description_text.count(\"figs.\")\n",
    "            r = Readability(detail_description_text.replace('aed-512', ''))\n",
    "            fk_score = r.flesch_kincaid().score\n",
    "        except:\n",
    "            continue\n",
    "        description_features[patent_id] = (description_word_count, fk_score, fig_counts)\n",
    "with open(\"probability_data/description_features_{}.json\".format(sys.argv[1]), 'w') as f:\n",
    "    json.dump(description_features, f)"
   ]
  },
  {
   "cell_type": "code",
   "execution_count": null,
   "metadata": {},
   "outputs": [],
   "source": []
  },
  {
   "cell_type": "code",
   "execution_count": null,
   "metadata": {},
   "outputs": [],
   "source": [
    "import pandas as pd\n",
    "patent = pd.read_csv(\"patent.tsv\", sep=\"\\t\", error_bad_lines=False)\n",
    "patent['now'] = pd.to_datetime('now')\n",
    "patent['date'] = pd.to_datetime(patent['date'], errors='coerce')\n",
    "patent = patent[patent['date'].between('1800-01-01', pd.datetime.today())]\n",
    "patent['days_between_grant_and_filing'] = (patent['now'] - patent['date']).dt.days.astype('int16') \n",
    "patent[['id', 'days_between_grant_and_filing']].to_csv(\"patent_days_between.csv\")"
   ]
  },
  {
   "cell_type": "code",
   "execution_count": null,
   "metadata": {},
   "outputs": [],
   "source": []
  },
  {
   "cell_type": "code",
   "execution_count": null,
   "metadata": {},
   "outputs": [],
   "source": []
  },
  {
   "cell_type": "code",
   "execution_count": 73,
   "metadata": {},
   "outputs": [
    {
     "name": "stderr",
     "output_type": "stream",
     "text": [
      "/Users/JasonKatz/anaconda/lib/python3.6/site-packages/seaborn/categorical.py:588: FutureWarning: remove_na is deprecated and is a private function. Do not use.\n",
      "  kde_data = remove_na(group_data)\n",
      "/Users/JasonKatz/anaconda/lib/python3.6/site-packages/seaborn/categorical.py:816: FutureWarning: remove_na is deprecated and is a private function. Do not use.\n",
      "  violin_data = remove_na(group_data)\n",
      "/Users/JasonKatz/anaconda/lib/python3.6/site-packages/scipy/stats/stats.py:1713: FutureWarning: Using a non-tuple sequence for multidimensional indexing is deprecated; use `arr[tuple(seq)]` instead of `arr[seq]`. In the future this will be interpreted as an array index, `arr[np.array(seq)]`, which will result either in an error or a different result.\n",
      "  return np.add.reduce(sorted[indexer] * weights, axis=axis) / sumval\n"
     ]
    },
    {
     "data": {
      "image/png": "[encoded data removed]",
      "text/plain": [
       "<Figure size 576x396 with 1 Axes>"
      ]
     },
     "metadata": {},
     "output_type": "display_data"
    },
    {
     "name": "stdout",
     "output_type": "stream",
     "text": [
      "time: 239 ms\n"
     ]
    }
   ],
   "source": [
    "sns.set(style=\"whitegrid\")\n",
    "plot = sns.violinplot(y=training_data['fk_score'])\n",
    "plot.set_ylabel(\"Flesch-Kincaid Grade Level\",fontsize=15)\n",
    "plot.tick_params(labelsize=15)"
   ]
  },
  {
   "cell_type": "code",
   "execution_count": 72,
   "metadata": {},
   "outputs": [
    {
     "name": "stderr",
     "output_type": "stream",
     "text": [
      "/Users/JasonKatz/anaconda/lib/python3.6/site-packages/seaborn/categorical.py:588: FutureWarning: remove_na is deprecated and is a private function. Do not use.\n",
      "  kde_data = remove_na(group_data)\n",
      "/Users/JasonKatz/anaconda/lib/python3.6/site-packages/seaborn/categorical.py:816: FutureWarning: remove_na is deprecated and is a private function. Do not use.\n",
      "  violin_data = remove_na(group_data)\n",
      "/Users/JasonKatz/anaconda/lib/python3.6/site-packages/scipy/stats/stats.py:1713: FutureWarning: Using a non-tuple sequence for multidimensional indexing is deprecated; use `arr[tuple(seq)]` instead of `arr[seq]`. In the future this will be interpreted as an array index, `arr[np.array(seq)]`, which will result either in an error or a different result.\n",
      "  return np.add.reduce(sorted[indexer] * weights, axis=axis) / sumval\n"
     ]
    },
    {
     "data": {
      "image/png": "[encoded data removed]",
      "text/plain": [
       "<Figure size 576x396 with 1 Axes>"
      ]
     },
     "metadata": {},
     "output_type": "display_data"
    },
    {
     "name": "stdout",
     "output_type": "stream",
     "text": [
      "time: 283 ms\n"
     ]
    }
   ],
   "source": [
    "sns.set(style=\"whitegrid\")\n",
    "plot = sns.violinplot(y=training_data['description_word_count'])\n",
    "plot.set_ylabel(\"Word Count\",fontsize=15)\n",
    "plot.tick_params(labelsize=15)"
   ]
  },
  {
   "cell_type": "code",
   "execution_count": 25,
   "metadata": {},
   "outputs": [
    {
     "name": "stderr",
     "output_type": "stream",
     "text": [
      "/Users/JasonKatz/anaconda/lib/python3.6/site-packages/seaborn/categorical.py:588: FutureWarning: remove_na is deprecated and is a private function. Do not use.\n",
      "  kde_data = remove_na(group_data)\n",
      "/Users/JasonKatz/anaconda/lib/python3.6/site-packages/seaborn/categorical.py:816: FutureWarning: remove_na is deprecated and is a private function. Do not use.\n",
      "  violin_data = remove_na(group_data)\n",
      "/Users/JasonKatz/anaconda/lib/python3.6/site-packages/scipy/stats/stats.py:1713: FutureWarning: Using a non-tuple sequence for multidimensional indexing is deprecated; use `arr[tuple(seq)]` instead of `arr[seq]`. In the future this will be interpreted as an array index, `arr[np.array(seq)]`, which will result either in an error or a different result.\n",
      "  return np.add.reduce(sorted[indexer] * weights, axis=axis) / sumval\n"
     ]
    },
    {
     "data": {
      "image/png": "[encoded data removed]",
      "text/plain": [
       "<Figure size 576x396 with 1 Axes>"
      ]
     },
     "metadata": {},
     "output_type": "display_data"
    },
    {
     "name": "stdout",
     "output_type": "stream",
     "text": [
      "time: 171 ms\n"
     ]
    }
   ],
   "source": [
    "sns.set(style=\"whitegrid\")\n",
    "plot = sns.violinplot(y=training_data['days_between_grant_and_filing'])\n",
    "plot.set_ylabel(\"Days Between Patent Grant and Claim Filing\",fontsize=15)\n",
    "plot.tick_params(labelsize=15)"
   ]
  },
  {
   "cell_type": "code",
   "execution_count": null,
   "metadata": {},
   "outputs": [],
   "source": [
    "tech_perc = training_data[training_data['technology_center'].isin(['3700', '1600', '3600', '1700', '2600', '2100', '2800', '2400'])].groupby('technology_center').mean()"
   ]
  },
  {
   "cell_type": "code",
   "execution_count": 69,
   "metadata": {},
   "outputs": [
    {
     "name": "stderr",
     "output_type": "stream",
     "text": [
      "/Users/JasonKatz/anaconda/lib/python3.6/site-packages/seaborn/categorical.py:1428: FutureWarning: remove_na is deprecated and is a private function. Do not use.\n",
      "  stat_data = remove_na(group_data)\n"
     ]
    },
    {
     "data": {
      "text/plain": [
       "Text(0.5,1,'Technology Center Good Claim Percentages (Top 8)')"
      ]
     },
     "execution_count": 69,
     "metadata": {},
     "output_type": "execute_result"
    },
    {
     "data": {
      "image/png": "[encoded data removed]",
      "text/plain": [
       "<Figure size 720x720 with 1 Axes>"
      ]
     },
     "metadata": {},
     "output_type": "display_data"
    },
    {
     "name": "stdout",
     "output_type": "stream",
     "text": [
      "time: 352 ms\n"
     ]
    }
   ],
   "source": [
    "sns.set(style=\"ticks\")\n",
    "f, ax = plt.subplots(figsize=(10, 10))\n",
    "plot = sns.barplot(np.array(['3700', '1600', '3600', '1700', '2600', '2100', '2800', '2400']),tech_perc['good_claim'])\n",
    "plot.set_xlabel(\"Technology Center\" ,fontsize=20)\n",
    "plot.set_ylabel(\"Good Claim Percentage\",fontsize=20)\n",
    "plot.tick_params(labelsize=15)\n",
    "plot.set_title(\"Technology Center Good Claim Percentages (Top 8)\", fontsize=25)"
   ]
  },
  {
   "cell_type": "code",
   "execution_count": 67,
   "metadata": {},
   "outputs": [
    {
     "name": "stderr",
     "output_type": "stream",
     "text": [
      "/Users/JasonKatz/anaconda/lib/python3.6/site-packages/seaborn/categorical.py:1428: FutureWarning: remove_na is deprecated and is a private function. Do not use.\n",
      "  stat_data = remove_na(group_data)\n"
     ]
    },
    {
     "data": {
      "text/plain": [
       "Text(0.5,1,'Technology Center Frequencies (Top 8)')"
      ]
     },
     "execution_count": 67,
     "metadata": {},
     "output_type": "execute_result"
    },
    {
     "data": {
      "image/png": "[encoded data removed]",
      "text/plain": [
       "<Figure size 720x720 with 1 Axes>"
      ]
     },
     "metadata": {},
     "output_type": "display_data"
    },
    {
     "name": "stdout",
     "output_type": "stream",
     "text": [
      "time: 299 ms\n"
     ]
    }
   ],
   "source": [
    "sns.set(style=\"ticks\")\n",
    "f, ax = plt.subplots(figsize=(10, 10))\n",
    "plot = sns.countplot(training_data[training_data['technology_center'].isin(['3700', '1600', '3600', '1700', '2600', '2100', '2800', '2400'])]['technology_center'])\n",
    "plot.set_xlabel(\"Technology Center\" ,fontsize=20)\n",
    "plot.set_ylabel(\"Frequency\",fontsize=20)\n",
    "plot.tick_params(labelsize=15)\n",
    "plot.set_title(\"Technology Center Frequencies (Top 8)\", fontsize=25)"
   ]
  },
  {
   "cell_type": "code",
   "execution_count": null,
   "metadata": {},
   "outputs": [],
   "source": []
  },
  {
   "cell_type": "code",
   "execution_count": null,
   "metadata": {},
   "outputs": [],
   "source": []
  }
 ],
 "metadata": {
  "kernelspec": {
   "display_name": "Python 3",
   "language": "python",
   "name": "python3"
  },
  "language_info": {
   "codemirror_mode": {
    "name": "ipython",
    "version": 3
   },
   "file_extension": ".py",
   "mimetype": "text/x-python",
   "name": "python",
   "nbconvert_exporter": "python",
   "pygments_lexer": "ipython3",
   "version": "3.6.8"
  }
 },
 "nbformat": 4,
 "nbformat_minor": 2
}
