{
 "cells": [
  {
   "cell_type": "code",
   "execution_count": 5,
   "metadata": {},
   "outputs": [
    {
     "name": "stdout",
     "output_type": "stream",
     "text": [
      "The autotime extension is already loaded. To reload it, use:\n",
      "  %reload_ext autotime\n",
      "time: 14.9 ms\n"
     ]
    }
   ],
   "source": [
    "import pandas as pd\n",
    "pd.set_option('display.max_columns', 500)\n",
    "import numpy as np\n",
    "from sklearn.linear_model import LogisticRegression\n",
    "from sklearn.ensemble import GradientBoostingClassifier, RandomForestClassifier\n",
    "from sklearn.tree import DecisionTreeClassifier\n",
    "from sklearn.neighbors import KNeighborsClassifier\n",
    "from sklearn.model_selection import cross_validate, RepeatedKFold, cross_val_score\n",
    "from sklearn.metrics import accuracy_score, log_loss\n",
    "from joblib import dump, load\n",
    "%load_ext autotime"
   ]
  },
  {
   "cell_type": "code",
   "execution_count": 160,
   "metadata": {},
   "outputs": [
    {
     "name": "stdout",
     "output_type": "stream",
     "text": [
      "time: 4.07 s\n"
     ]
    }
   ],
   "source": [
    "training_data = pd.read_csv(\"training_data_full.csv\")"
   ]
  },
  {
   "cell_type": "code",
   "execution_count": 6,
   "metadata": {},
   "outputs": [
    {
     "data": {
      "text/html": [
       "<div>\n",
       "<style scoped>\n",
       "    .dataframe tbody tr th:only-of-type {\n",
       "        vertical-align: middle;\n",
       "    }\n",
       "\n",
       "    .dataframe tbody tr th {\n",
       "        vertical-align: top;\n",
       "    }\n",
       "\n",
       "    .dataframe thead th {\n",
       "        text-align: right;\n",
       "    }\n",
       "</style>\n",
       "<table border=\"1\" class=\"dataframe\">\n",
       "  <thead>\n",
       "    <tr style=\"text-align: right;\">\n",
       "      <th></th>\n",
       "      <th>good_claim</th>\n",
       "      <th>proceeding_number</th>\n",
       "      <th>patent_id</th>\n",
       "      <th>detailed_description</th>\n",
       "      <th>days_between_grant_and_filing</th>\n",
       "      <th>description_word_count</th>\n",
       "      <th>fk_score</th>\n",
       "      <th>fig_counts</th>\n",
       "      <th>id</th>\n",
       "      <th>type</th>\n",
       "      <th>number</th>\n",
       "      <th>country</th>\n",
       "      <th>date</th>\n",
       "      <th>abstract</th>\n",
       "      <th>title</th>\n",
       "      <th>kind</th>\n",
       "      <th>num_claims</th>\n",
       "      <th>filename</th>\n",
       "      <th>withdrawn</th>\n",
       "      <th>uuid</th>\n",
       "      <th>classification_level</th>\n",
       "      <th>section</th>\n",
       "      <th>ipc_class</th>\n",
       "      <th>subclass</th>\n",
       "      <th>main_group</th>\n",
       "      <th>subgroup</th>\n",
       "      <th>symbol_position</th>\n",
       "      <th>classification_value</th>\n",
       "      <th>classification_status</th>\n",
       "      <th>classification_data_source</th>\n",
       "      <th>action_date</th>\n",
       "      <th>ipc_version_indicator</th>\n",
       "      <th>sequence</th>\n",
       "    </tr>\n",
       "  </thead>\n",
       "  <tbody>\n",
       "    <tr>\n",
       "      <th>0</th>\n",
       "      <td>0</td>\n",
       "      <td>PGR2018-00008</td>\n",
       "      <td>9597594</td>\n",
       "      <td>DESCRIPTION Hereinafter, with reference to the...</td>\n",
       "      <td>231</td>\n",
       "      <td>13494</td>\n",
       "      <td>13.314722</td>\n",
       "      <td>69</td>\n",
       "      <td>9597594</td>\n",
       "      <td>utility</td>\n",
       "      <td>9597594</td>\n",
       "      <td>US</td>\n",
       "      <td>2017-03-21</td>\n",
       "      <td>Provided is a method for controlling a compute...</td>\n",
       "      <td>Computer control method, control program and c...</td>\n",
       "      <td>B2</td>\n",
       "      <td>20.0</td>\n",
       "      <td>ipg170321.xml</td>\n",
       "      <td>0.0</td>\n",
       "      <td>5q202ek2qg21dsm3ynl44zzor</td>\n",
       "      <td>A</td>\n",
       "      <td>A</td>\n",
       "      <td>63</td>\n",
       "      <td>F</td>\n",
       "      <td>13</td>\n",
       "      <td>822</td>\n",
       "      <td>L</td>\n",
       "      <td>I</td>\n",
       "      <td>B</td>\n",
       "      <td>H</td>\n",
       "      <td>2017-03-21</td>\n",
       "      <td>2014-01-01</td>\n",
       "      <td>2</td>\n",
       "    </tr>\n",
       "    <tr>\n",
       "      <th>1</th>\n",
       "      <td>1</td>\n",
       "      <td>IPR2018-01566</td>\n",
       "      <td>8367337</td>\n",
       "      <td>As discussed herein, the present invention pro...</td>\n",
       "      <td>2023</td>\n",
       "      <td>7893</td>\n",
       "      <td>19.433383</td>\n",
       "      <td>8</td>\n",
       "      <td>8367337</td>\n",
       "      <td>utility</td>\n",
       "      <td>8367337</td>\n",
       "      <td>US</td>\n",
       "      <td>2013-02-05</td>\n",
       "      <td>The present invention provides improved tests ...</td>\n",
       "      <td>Detection of methicillin-resistant Staphylococ...</td>\n",
       "      <td>B2</td>\n",
       "      <td>47.0</td>\n",
       "      <td>ipg130205.xml</td>\n",
       "      <td>0.0</td>\n",
       "      <td>b2jrwkfubjdln0d820f44kyhb</td>\n",
       "      <td>A</td>\n",
       "      <td>C</td>\n",
       "      <td>7</td>\n",
       "      <td>H</td>\n",
       "      <td>21</td>\n",
       "      <td>04</td>\n",
       "      <td>L</td>\n",
       "      <td>I</td>\n",
       "      <td>B</td>\n",
       "      <td>H</td>\n",
       "      <td>2013-02-05</td>\n",
       "      <td>2006-01-01</td>\n",
       "      <td>2</td>\n",
       "    </tr>\n",
       "    <tr>\n",
       "      <th>2</th>\n",
       "      <td>0</td>\n",
       "      <td>IPR2019-00015</td>\n",
       "      <td>8409052</td>\n",
       "      <td>DESCRIPTION OF THE PREFERRED EMBODIMENT An exe...</td>\n",
       "      <td>2038</td>\n",
       "      <td>4224</td>\n",
       "      <td>14.952263</td>\n",
       "      <td>17</td>\n",
       "      <td>8409052</td>\n",
       "      <td>utility</td>\n",
       "      <td>8409052</td>\n",
       "      <td>US</td>\n",
       "      <td>2013-04-02</td>\n",
       "      <td>Provided is a starting method for hybrid elect...</td>\n",
       "      <td>Starting method for hybrid electric vehicle an...</td>\n",
       "      <td>B2</td>\n",
       "      <td>16.0</td>\n",
       "      <td>ipg130402.xml</td>\n",
       "      <td>0.0</td>\n",
       "      <td>bp4w0r1ahp4onk16nzuxx2tss</td>\n",
       "      <td>A</td>\n",
       "      <td>B</td>\n",
       "      <td>60</td>\n",
       "      <td>W</td>\n",
       "      <td>10</td>\n",
       "      <td>24</td>\n",
       "      <td>L</td>\n",
       "      <td>I</td>\n",
       "      <td>B</td>\n",
       "      <td>H</td>\n",
       "      <td>2013-04-02</td>\n",
       "      <td>2006-01-01</td>\n",
       "      <td>1</td>\n",
       "    </tr>\n",
       "    <tr>\n",
       "      <th>3</th>\n",
       "      <td>1</td>\n",
       "      <td>IPR2018-00159</td>\n",
       "      <td>9023979</td>\n",
       "      <td>DESCRIPTION OF SPECIFIC EMBODIMENTS Hereinafte...</td>\n",
       "      <td>920</td>\n",
       "      <td>9089</td>\n",
       "      <td>20.703933</td>\n",
       "      <td>7</td>\n",
       "      <td>9023979</td>\n",
       "      <td>utility</td>\n",
       "      <td>9023979</td>\n",
       "      <td>US</td>\n",
       "      <td>2015-05-05</td>\n",
       "      <td>This invention relates to a method of preparin...</td>\n",
       "      <td>Precise control of molecular weight and chain ...</td>\n",
       "      <td>B2</td>\n",
       "      <td>4.0</td>\n",
       "      <td>ipg150505.xml</td>\n",
       "      <td>0.0</td>\n",
       "      <td>4ayfcysyb77vs9fz7toqhvi5c</td>\n",
       "      <td>A</td>\n",
       "      <td>C</td>\n",
       "      <td>8</td>\n",
       "      <td>G</td>\n",
       "      <td>65</td>\n",
       "      <td>04</td>\n",
       "      <td>L</td>\n",
       "      <td>N</td>\n",
       "      <td>B</td>\n",
       "      <td>H</td>\n",
       "      <td>2015-05-05</td>\n",
       "      <td>2006-01-01</td>\n",
       "      <td>7</td>\n",
       "    </tr>\n",
       "    <tr>\n",
       "      <th>4</th>\n",
       "      <td>1</td>\n",
       "      <td>IPR2017-02108</td>\n",
       "      <td>8508751</td>\n",
       "      <td>DETAILED DESCRIPTION OF THE EMBODIMENTS With r...</td>\n",
       "      <td>1494</td>\n",
       "      <td>2446</td>\n",
       "      <td>15.367966</td>\n",
       "      <td>11</td>\n",
       "      <td>8508751</td>\n",
       "      <td>utility</td>\n",
       "      <td>8508751</td>\n",
       "      <td>US</td>\n",
       "      <td>2013-08-13</td>\n",
       "      <td>Disclosed is a method of acquiring an image of...</td>\n",
       "      <td>Capturing real-time video with zooming capabil...</td>\n",
       "      <td>B1</td>\n",
       "      <td>20.0</td>\n",
       "      <td>ipg130813.xml</td>\n",
       "      <td>0.0</td>\n",
       "      <td>z2uoy0oz3akvjirh28zms34tp</td>\n",
       "      <td>A</td>\n",
       "      <td>G</td>\n",
       "      <td>6</td>\n",
       "      <td>F</td>\n",
       "      <td>3</td>\n",
       "      <td>12</td>\n",
       "      <td>F</td>\n",
       "      <td>I</td>\n",
       "      <td>B</td>\n",
       "      <td>H</td>\n",
       "      <td>2013-08-13</td>\n",
       "      <td>2006-01-01</td>\n",
       "      <td>0</td>\n",
       "    </tr>\n",
       "  </tbody>\n",
       "</table>\n",
       "</div>"
      ],
      "text/plain": [
       "   good_claim proceeding_number patent_id  \\\n",
       "0           0     PGR2018-00008   9597594   \n",
       "1           1     IPR2018-01566   8367337   \n",
       "2           0     IPR2019-00015   8409052   \n",
       "3           1     IPR2018-00159   9023979   \n",
       "4           1     IPR2017-02108   8508751   \n",
       "\n",
       "                                detailed_description  \\\n",
       "0  DESCRIPTION Hereinafter, with reference to the...   \n",
       "1  As discussed herein, the present invention pro...   \n",
       "2  DESCRIPTION OF THE PREFERRED EMBODIMENT An exe...   \n",
       "3  DESCRIPTION OF SPECIFIC EMBODIMENTS Hereinafte...   \n",
       "4  DETAILED DESCRIPTION OF THE EMBODIMENTS With r...   \n",
       "\n",
       "   days_between_grant_and_filing  description_word_count   fk_score  \\\n",
       "0                            231                   13494  13.314722   \n",
       "1                           2023                    7893  19.433383   \n",
       "2                           2038                    4224  14.952263   \n",
       "3                            920                    9089  20.703933   \n",
       "4                           1494                    2446  15.367966   \n",
       "\n",
       "   fig_counts       id     type   number country        date  \\\n",
       "0          69  9597594  utility  9597594      US  2017-03-21   \n",
       "1           8  8367337  utility  8367337      US  2013-02-05   \n",
       "2          17  8409052  utility  8409052      US  2013-04-02   \n",
       "3           7  9023979  utility  9023979      US  2015-05-05   \n",
       "4          11  8508751  utility  8508751      US  2013-08-13   \n",
       "\n",
       "                                            abstract  \\\n",
       "0  Provided is a method for controlling a compute...   \n",
       "1  The present invention provides improved tests ...   \n",
       "2  Provided is a starting method for hybrid elect...   \n",
       "3  This invention relates to a method of preparin...   \n",
       "4  Disclosed is a method of acquiring an image of...   \n",
       "\n",
       "                                               title kind  num_claims  \\\n",
       "0  Computer control method, control program and c...   B2        20.0   \n",
       "1  Detection of methicillin-resistant Staphylococ...   B2        47.0   \n",
       "2  Starting method for hybrid electric vehicle an...   B2        16.0   \n",
       "3  Precise control of molecular weight and chain ...   B2         4.0   \n",
       "4  Capturing real-time video with zooming capabil...   B1        20.0   \n",
       "\n",
       "        filename  withdrawn                       uuid classification_level  \\\n",
       "0  ipg170321.xml        0.0  5q202ek2qg21dsm3ynl44zzor                    A   \n",
       "1  ipg130205.xml        0.0  b2jrwkfubjdln0d820f44kyhb                    A   \n",
       "2  ipg130402.xml        0.0  bp4w0r1ahp4onk16nzuxx2tss                    A   \n",
       "3  ipg150505.xml        0.0  4ayfcysyb77vs9fz7toqhvi5c                    A   \n",
       "4  ipg130813.xml        0.0  z2uoy0oz3akvjirh28zms34tp                    A   \n",
       "\n",
       "  section  ipc_class subclass main_group subgroup symbol_position  \\\n",
       "0       A         63        F         13      822               L   \n",
       "1       C          7        H         21       04               L   \n",
       "2       B         60        W         10       24               L   \n",
       "3       C          8        G         65       04               L   \n",
       "4       G          6        F          3       12               F   \n",
       "\n",
       "  classification_value classification_status classification_data_source  \\\n",
       "0                    I                     B                          H   \n",
       "1                    I                     B                          H   \n",
       "2                    I                     B                          H   \n",
       "3                    N                     B                          H   \n",
       "4                    I                     B                          H   \n",
       "\n",
       "  action_date ipc_version_indicator  sequence  \n",
       "0  2017-03-21            2014-01-01         2  \n",
       "1  2013-02-05            2006-01-01         2  \n",
       "2  2013-04-02            2006-01-01         1  \n",
       "3  2015-05-05            2006-01-01         7  \n",
       "4  2013-08-13            2006-01-01         0  "
      ]
     },
     "execution_count": 6,
     "metadata": {},
     "output_type": "execute_result"
    },
    {
     "name": "stdout",
     "output_type": "stream",
     "text": [
      "time: 75.5 ms\n"
     ]
    }
   ],
   "source": [
    "training_data.head()"
   ]
  },
  {
   "cell_type": "code",
   "execution_count": 161,
   "metadata": {},
   "outputs": [
    {
     "name": "stdout",
     "output_type": "stream",
     "text": [
      "time: 62.2 ms\n"
     ]
    }
   ],
   "source": [
    "categories = ['kind', 'section']\n",
    "training_data_plus_categories = pd.get_dummies(training_data, columns=categories)"
   ]
  },
  {
   "cell_type": "code",
   "execution_count": 162,
   "metadata": {},
   "outputs": [
    {
     "name": "stdout",
     "output_type": "stream",
     "text": [
      "time: 2.64 ms\n"
     ]
    }
   ],
   "source": [
    "category_names = list(training_data_plus_categories.columns[33-len(categories):])"
   ]
  },
  {
   "cell_type": "code",
   "execution_count": 163,
   "metadata": {},
   "outputs": [
    {
     "data": {
      "text/plain": [
       "['kind_A',\n",
       " 'kind_B1',\n",
       " 'kind_B2',\n",
       " 'kind_E',\n",
       " 'kind_E1',\n",
       " 'section_A',\n",
       " 'section_B',\n",
       " 'section_C',\n",
       " 'section_D',\n",
       " 'section_E',\n",
       " 'section_F',\n",
       " 'section_G',\n",
       " 'section_H',\n",
       " 'section_M']"
      ]
     },
     "execution_count": 163,
     "metadata": {},
     "output_type": "execute_result"
    },
    {
     "name": "stdout",
     "output_type": "stream",
     "text": [
      "time: 4.96 ms\n"
     ]
    }
   ],
   "source": [
    "category_names"
   ]
  },
  {
   "cell_type": "code",
   "execution_count": 164,
   "metadata": {},
   "outputs": [
    {
     "name": "stdout",
     "output_type": "stream",
     "text": [
      "time: 26 ms\n"
     ]
    }
   ],
   "source": [
    "X = training_data_plus_categories[['days_between_grant_and_filing', 'description_word_count', 'fk_score', 'fig_counts', 'ipc_class'] + category_names]\n",
    "y = training_data_plus_categories['good_claim']"
   ]
  },
  {
   "cell_type": "code",
   "execution_count": 169,
   "metadata": {},
   "outputs": [
    {
     "name": "stdout",
     "output_type": "stream",
     "text": [
      "time: 27.5 s\n"
     ]
    }
   ],
   "source": [
    "model = GradientBoostingClassifier(learning_rate=.1, n_estimators=100, max_depth=7, subsample=1, min_samples_split=2, random_state=33)\n",
    "# model = RandomForestClassifier(n_estimators=50, random_state=33, max_depth=3, min_samples_split=2, max_features=\"sqrt\")\n",
    "# model = LogisticRegression()\n",
    "# model = DecisionTreeClassifier()\n",
    "# model = KNeighborsClassifier(n_neighbors=100, n_jobs=-1)\n",
    "cv_results = cross_validate(model, X, y, cv=RepeatedKFold(n_splits=7, n_repeats=3, random_state=7), n_jobs=-1, return_train_score=True, \n",
    "                            scoring=['accuracy', 'neg_log_loss'])"
   ]
  },
  {
   "cell_type": "code",
   "execution_count": null,
   "metadata": {},
   "outputs": [],
   "source": []
  },
  {
   "cell_type": "code",
   "execution_count": 95,
   "metadata": {},
   "outputs": [
    {
     "name": "stdout",
     "output_type": "stream",
     "text": [
      "Accuracy: 0.7712890839627917\n",
      "Log Loss: 0.5058363743721214\n",
      "time: 3.91 ms\n"
     ]
    }
   ],
   "source": [
    "# Days, word count, fk score, fig counts, kinds, section, ipc_class\n",
    "print(\"Accuracy: {}\".format(cv_results['test_accuracy'].mean()))\n",
    "print(\"Log Loss: {}\".format(-cv_results['test_neg_log_loss'].mean()))"
   ]
  },
  {
   "cell_type": "code",
   "execution_count": null,
   "metadata": {},
   "outputs": [],
   "source": []
  },
  {
   "cell_type": "code",
   "execution_count": 92,
   "metadata": {},
   "outputs": [
    {
     "name": "stdout",
     "output_type": "stream",
     "text": [
      "Accuracy: 0.7655424249643261\n",
      "Log Loss: 0.5083122413183988\n",
      "time: 2.17 ms\n"
     ]
    }
   ],
   "source": [
    "# Days, word count, fk score, fig counts, kinds, section\n",
    "print(\"Accuracy: {}\".format(cv_results['test_accuracy'].mean()))\n",
    "print(\"Log Loss: {}\".format(-cv_results['test_neg_log_loss'].mean()))"
   ]
  },
  {
   "cell_type": "code",
   "execution_count": null,
   "metadata": {},
   "outputs": [],
   "source": []
  },
  {
   "cell_type": "code",
   "execution_count": 86,
   "metadata": {},
   "outputs": [
    {
     "name": "stdout",
     "output_type": "stream",
     "text": [
      "Accuracy: 0.7614007140410697\n",
      "Log Loss: 0.5151745028662464\n",
      "time: 2.86 ms\n"
     ]
    }
   ],
   "source": [
    "# Days, word count, fk score, fig counts, kinds\n",
    "print(\"Accuracy: {}\".format(cv_results['test_accuracy'].mean()))\n",
    "print(\"Log Loss: {}\".format(-cv_results['test_neg_log_loss'].mean()))"
   ]
  },
  {
   "cell_type": "code",
   "execution_count": null,
   "metadata": {},
   "outputs": [],
   "source": []
  },
  {
   "cell_type": "code",
   "execution_count": 80,
   "metadata": {},
   "outputs": [
    {
     "name": "stdout",
     "output_type": "stream",
     "text": [
      "Accuracy: 0.7605999645466016\n",
      "Log Loss: 0.5223985236744204\n",
      "time: 4.51 ms\n"
     ]
    }
   ],
   "source": [
    "# Days, word count, fk score, fig counts -- max_depth 7\n",
    "print(\"Accuracy: {}\".format(cv_results['test_accuracy'].mean()))\n",
    "print(\"Log Loss: {}\".format(-cv_results['test_neg_log_loss'].mean()))"
   ]
  },
  {
   "cell_type": "code",
   "execution_count": 36,
   "metadata": {},
   "outputs": [
    {
     "name": "stdout",
     "output_type": "stream",
     "text": [
      "Accuracy: 0.7422466545868435\n",
      "Log Loss: 0.5434979089880754\n",
      "time: 3.76 ms\n"
     ]
    }
   ],
   "source": [
    "# Days, word count, fk score, fig counts -- max_depth 5  --- model iteration 1\n",
    "print(\"Accuracy: {}\".format(cv_results['test_accuracy'].mean()))\n",
    "print(\"Log Loss: {}\".format(-cv_results['test_neg_log_loss'].mean()))"
   ]
  },
  {
   "cell_type": "code",
   "execution_count": null,
   "metadata": {},
   "outputs": [],
   "source": []
  },
  {
   "cell_type": "code",
   "execution_count": 10,
   "metadata": {},
   "outputs": [
    {
     "name": "stdout",
     "output_type": "stream",
     "text": [
      "Naive Accuracy: 0.7109751575824991\n",
      "Naive Log Loss: 0.6012762313064095\n",
      "time: 451 ms\n"
     ]
    }
   ],
   "source": [
    "### Naive Model\n",
    "print(\"Naive Accuracy: {}\".format(y.mean()))\n",
    "print(\"Naive Log Loss: {}\".format(log_loss(y, [y.mean()]*len(y))))"
   ]
  },
  {
   "cell_type": "code",
   "execution_count": 11,
   "metadata": {},
   "outputs": [
    {
     "data": {
      "text/plain": [
       "GradientBoostingClassifier(criterion='friedman_mse', init=None,\n",
       "              learning_rate=0.1, loss='deviance', max_depth=5,\n",
       "              max_features=None, max_leaf_nodes=None,\n",
       "              min_impurity_decrease=0.0, min_impurity_split=None,\n",
       "              min_samples_leaf=1, min_samples_split=2,\n",
       "              min_weight_fraction_leaf=0.0, n_estimators=100,\n",
       "              n_iter_no_change=None, presort='auto', random_state=33,\n",
       "              subsample=1, tol=0.0001, validation_fraction=0.1, verbose=0,\n",
       "              warm_start=False)"
      ]
     },
     "execution_count": 11,
     "metadata": {},
     "output_type": "execute_result"
    },
    {
     "name": "stdout",
     "output_type": "stream",
     "text": [
      "time: 2.66 s\n"
     ]
    }
   ],
   "source": [
    "model.fit(X,y)"
   ]
  },
  {
   "cell_type": "code",
   "execution_count": 13,
   "metadata": {},
   "outputs": [
    {
     "data": {
      "text/plain": [
       "['patent_GBC.joblib']"
      ]
     },
     "execution_count": 13,
     "metadata": {},
     "output_type": "execute_result"
    },
    {
     "name": "stdout",
     "output_type": "stream",
     "text": [
      "time: 222 ms\n"
     ]
    }
   ],
   "source": [
    "dump(model, 'patent_GBC.joblib') "
   ]
  }
 ],
 "metadata": {
  "kernelspec": {
   "display_name": "Python 3",
   "language": "python",
   "name": "python3"
  },
  "language_info": {
   "codemirror_mode": {
    "name": "ipython",
    "version": 3
   },
   "file_extension": ".py",
   "mimetype": "text/x-python",
   "name": "python",
   "nbconvert_exporter": "python",
   "pygments_lexer": "ipython3",
   "version": "3.6.8"
  }
 },
 "nbformat": 4,
 "nbformat_minor": 2
}
