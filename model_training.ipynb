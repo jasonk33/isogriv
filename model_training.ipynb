{
 "cells": [
  {
   "cell_type": "code",
   "execution_count": 4,
   "metadata": {},
   "outputs": [
    {
     "name": "stdout",
     "output_type": "stream",
     "text": [
      "The autotime extension is already loaded. To reload it, use:\n",
      "  %reload_ext autotime\n",
      "time: 385 ms\n"
     ]
    }
   ],
   "source": [
    "import pandas as pd\n",
    "import numpy as np\n",
    "from sklearn.linear_model import LogisticRegression\n",
    "from sklearn.ensemble import GradientBoostingClassifier, RandomForestClassifier\n",
    "from sklearn.tree import DecisionTreeClassifier\n",
    "from sklearn.neighbors import KNeighborsClassifier\n",
    "from sklearn.model_selection import cross_validate, RepeatedKFold, cross_val_score\n",
    "from sklearn.metrics import accuracy_score, log_loss\n",
    "%load_ext autotime"
   ]
  },
  {
   "cell_type": "code",
   "execution_count": 5,
   "metadata": {},
   "outputs": [
    {
     "name": "stdout",
     "output_type": "stream",
     "text": [
      "time: 7.06 s\n"
     ]
    }
   ],
   "source": [
    "training_data = pd.read_csv(\"training_data.csv\", index_col=0)"
   ]
  },
  {
   "cell_type": "code",
   "execution_count": 6,
   "metadata": {},
   "outputs": [
    {
     "data": {
      "text/html": [
       "<div>\n",
       "<style scoped>\n",
       "    .dataframe tbody tr th:only-of-type {\n",
       "        vertical-align: middle;\n",
       "    }\n",
       "\n",
       "    .dataframe tbody tr th {\n",
       "        vertical-align: top;\n",
       "    }\n",
       "\n",
       "    .dataframe thead th {\n",
       "        text-align: right;\n",
       "    }\n",
       "</style>\n",
       "<table border=\"1\" class=\"dataframe\">\n",
       "  <thead>\n",
       "    <tr style=\"text-align: right;\">\n",
       "      <th></th>\n",
       "      <th>good_claim</th>\n",
       "      <th>proceeding_number</th>\n",
       "      <th>patent_id</th>\n",
       "      <th>detailed_description</th>\n",
       "      <th>days_between_grant_and_filing</th>\n",
       "      <th>description_word_count</th>\n",
       "      <th>fk_score</th>\n",
       "      <th>fig_counts</th>\n",
       "    </tr>\n",
       "  </thead>\n",
       "  <tbody>\n",
       "    <tr>\n",
       "      <th>0</th>\n",
       "      <td>0</td>\n",
       "      <td>PGR2018-00008</td>\n",
       "      <td>9597594</td>\n",
       "      <td>DESCRIPTION Hereinafter, with reference to the...</td>\n",
       "      <td>231</td>\n",
       "      <td>13494</td>\n",
       "      <td>13.314722</td>\n",
       "      <td>69</td>\n",
       "    </tr>\n",
       "    <tr>\n",
       "      <th>1</th>\n",
       "      <td>1</td>\n",
       "      <td>IPR2018-01566</td>\n",
       "      <td>8367337</td>\n",
       "      <td>As discussed herein, the present invention pro...</td>\n",
       "      <td>2023</td>\n",
       "      <td>7893</td>\n",
       "      <td>19.433383</td>\n",
       "      <td>8</td>\n",
       "    </tr>\n",
       "    <tr>\n",
       "      <th>2</th>\n",
       "      <td>0</td>\n",
       "      <td>IPR2019-00015</td>\n",
       "      <td>8409052</td>\n",
       "      <td>DESCRIPTION OF THE PREFERRED EMBODIMENT An exe...</td>\n",
       "      <td>2038</td>\n",
       "      <td>4224</td>\n",
       "      <td>14.952263</td>\n",
       "      <td>17</td>\n",
       "    </tr>\n",
       "    <tr>\n",
       "      <th>3</th>\n",
       "      <td>1</td>\n",
       "      <td>IPR2018-00159</td>\n",
       "      <td>9023979</td>\n",
       "      <td>DESCRIPTION OF SPECIFIC EMBODIMENTS Hereinafte...</td>\n",
       "      <td>920</td>\n",
       "      <td>9089</td>\n",
       "      <td>20.703933</td>\n",
       "      <td>7</td>\n",
       "    </tr>\n",
       "    <tr>\n",
       "      <th>4</th>\n",
       "      <td>1</td>\n",
       "      <td>IPR2017-02108</td>\n",
       "      <td>8508751</td>\n",
       "      <td>DETAILED DESCRIPTION OF THE EMBODIMENTS With r...</td>\n",
       "      <td>1494</td>\n",
       "      <td>2446</td>\n",
       "      <td>15.367966</td>\n",
       "      <td>11</td>\n",
       "    </tr>\n",
       "  </tbody>\n",
       "</table>\n",
       "</div>"
      ],
      "text/plain": [
       "   good_claim proceeding_number patent_id  \\\n",
       "0           0     PGR2018-00008   9597594   \n",
       "1           1     IPR2018-01566   8367337   \n",
       "2           0     IPR2019-00015   8409052   \n",
       "3           1     IPR2018-00159   9023979   \n",
       "4           1     IPR2017-02108   8508751   \n",
       "\n",
       "                                detailed_description  \\\n",
       "0  DESCRIPTION Hereinafter, with reference to the...   \n",
       "1  As discussed herein, the present invention pro...   \n",
       "2  DESCRIPTION OF THE PREFERRED EMBODIMENT An exe...   \n",
       "3  DESCRIPTION OF SPECIFIC EMBODIMENTS Hereinafte...   \n",
       "4  DETAILED DESCRIPTION OF THE EMBODIMENTS With r...   \n",
       "\n",
       "   days_between_grant_and_filing  description_word_count   fk_score  \\\n",
       "0                            231                   13494  13.314722   \n",
       "1                           2023                    7893  19.433383   \n",
       "2                           2038                    4224  14.952263   \n",
       "3                            920                    9089  20.703933   \n",
       "4                           1494                    2446  15.367966   \n",
       "\n",
       "   fig_counts  \n",
       "0          69  \n",
       "1           8  \n",
       "2          17  \n",
       "3           7  \n",
       "4          11  "
      ]
     },
     "execution_count": 6,
     "metadata": {},
     "output_type": "execute_result"
    },
    {
     "name": "stdout",
     "output_type": "stream",
     "text": [
      "time: 533 ms\n"
     ]
    }
   ],
   "source": [
    "training_data.head()"
   ]
  },
  {
   "cell_type": "code",
   "execution_count": 7,
   "metadata": {},
   "outputs": [
    {
     "name": "stdout",
     "output_type": "stream",
     "text": [
      "time: 178 ms\n"
     ]
    }
   ],
   "source": [
    "X = training_data[['days_between_grant_and_filing', 'description_word_count', 'fk_score', 'fig_counts']]\n",
    "y = training_data['good_claim']"
   ]
  },
  {
   "cell_type": "code",
   "execution_count": 8,
   "metadata": {},
   "outputs": [
    {
     "name": "stdout",
     "output_type": "stream",
     "text": [
      "time: 19.5 s\n"
     ]
    }
   ],
   "source": [
    "model = GradientBoostingClassifier(learning_rate=.1, n_estimators=100, max_depth=5, subsample=1, min_samples_split=2, random_state=33)\n",
    "# model = RandomForestClassifier(n_estimators=50, random_state=33, max_depth=3, min_samples_split=2, max_features=\"sqrt\")\n",
    "# model = LogisticRegression()\n",
    "# model = DecisionTreeClassifier()\n",
    "# model = KNeighborsClassifier(n_neighbors=100, n_jobs=-1)\n",
    "cv_results = cross_validate(model, X, y, cv=RepeatedKFold(n_splits=7, n_repeats=3, random_state=7), n_jobs=-1, return_train_score=True, \n",
    "                            scoring=['accuracy', 'neg_log_loss'])"
   ]
  },
  {
   "cell_type": "code",
   "execution_count": 9,
   "metadata": {},
   "outputs": [
    {
     "name": "stdout",
     "output_type": "stream",
     "text": [
      "Accuracy: 0.7422466545868435\n",
      "Log Loss: 0.5434979089880754\n",
      "time: 49.3 ms\n"
     ]
    }
   ],
   "source": [
    "print(\"Accuracy: {}\".format(cv_results['test_accuracy'].mean()))\n",
    "print(\"Log Loss: {}\".format(-cv_results['test_neg_log_loss'].mean()))"
   ]
  },
  {
   "cell_type": "code",
   "execution_count": 10,
   "metadata": {},
   "outputs": [
    {
     "name": "stdout",
     "output_type": "stream",
     "text": [
      "Naive Accuracy: 0.7109751575824991\n",
      "Naive Log Loss: 0.6012762313064095\n",
      "time: 451 ms\n"
     ]
    }
   ],
   "source": [
    "### Naive Model\n",
    "print(\"Naive Accuracy: {}\".format(y.mean()))\n",
    "print(\"Naive Log Loss: {}\".format(log_loss(y, [y.mean()]*len(y))))"
   ]
  },
  {
   "cell_type": "code",
   "execution_count": null,
   "metadata": {},
   "outputs": [],
   "source": []
  }
 ],
 "metadata": {
  "kernelspec": {
   "display_name": "Python 3",
   "language": "python",
   "name": "python3"
  },
  "language_info": {
   "codemirror_mode": {
    "name": "ipython",
    "version": 3
   },
   "file_extension": ".py",
   "mimetype": "text/x-python",
   "name": "python",
   "nbconvert_exporter": "python",
   "pygments_lexer": "ipython3",
   "version": "3.6.8"
  }
 },
 "nbformat": 4,
 "nbformat_minor": 2
}
